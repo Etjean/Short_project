{
 "cells": [
  {
   "cell_type": "markdown",
   "metadata": {},
   "source": [
    "# DVPT 5"
   ]
  },
  {
   "cell_type": "code",
   "execution_count": 1,
   "metadata": {},
   "outputs": [],
   "source": [
    "import random as rd\n",
    "import reprlib\n",
    "import time\n",
    "from sys import getsizeof"
   ]
  },
  {
   "cell_type": "code",
   "execution_count": 4,
   "metadata": {},
   "outputs": [],
   "source": [
    "class Genome:\n",
    "    def __init__(self, sequence):\n",
    "        self.sequence = sequence\n",
    "        \n",
    "    def sequencing(self, read_length=100, reads_nb=5000):\n",
    "        reads=[]\n",
    "        for _ in range(reads_nb):\n",
    "            start = rd.randint(0, len(self.sequence)-1)\n",
    "            read_seq = self.sequence[start:min(start+100, len(self.sequence))] + self.sequence[0:max(start+100-len(self.sequence), 0)]\n",
    "            read = Read(read_seq)\n",
    "            reads.append(read)\n",
    "        return reads\n",
    "\n",
    "\n",
    "    \n",
    "class Read:\n",
    "    reads = []\n",
    "    all_kmers = []\n",
    "    all_km1mers = []\n",
    "    \n",
    "    def __init__(self, sequence):\n",
    "        self.sequence = sequence\n",
    "        \n",
    "    def generate_kmers(self, kmers_length):\n",
    "        \"\"\"Returns a list of the k-mers (as strings only) included in the read\"\"\"\n",
    "        kmers=[]\n",
    "        for i in range(len(self.sequence) - kmers_length):\n",
    "            kmer = self.sequence[i:i+kmers_length]\n",
    "            kmers.append(kmer)\n",
    "        return kmers\n",
    "\n",
    "\n",
    "    \n",
    "class Graph:\n",
    "    def __init__(self):\n",
    "        self.vertices = {}\n",
    "        self.edges = {}\n",
    "        self.euler_cycles = []\n",
    "        self.euler_biggest = []\n",
    "        \n",
    "    def test_eulerian(self):\n",
    "        for vertex in self.vertices.values():\n",
    "            if len(vertex.edges_in) != len(vertex.edges_out):\n",
    "                print('PROBLEM : This graph is not Eulerian.')\n",
    "                return False\n",
    "        print('SUCCESS : This graph is Eulerian !')\n",
    "        return True\n",
    "    \n",
    "    def find_cycle(self):\n",
    "        edge = self.edges.popitem()[1]\n",
    "        cycle = [edge.vertex_from]\n",
    "        e = edge.vertex_to.edges_out.pop()\n",
    "        while e != edge:\n",
    "            self.edges.pop(e.sequence)\n",
    "            cycle.append(e.vertex_from)\n",
    "            e = e.vertex_to.edges_out.pop()\n",
    "        return cycle\n",
    "    \n",
    "    def find_all_cycles(self):\n",
    "        while len(self.edges) > 0:\n",
    "            self.euler_cycles.append(self.find_cycle())\n",
    "            \n",
    "    def assemble_cycles(self, cycle, tab):\n",
    "        for v in cycle:\n",
    "            self.euler_biggest.append(v)\n",
    "            for c in tab:\n",
    "                if v in c:\n",
    "                    nextcycle = c[c.index(v)+1:] + c[:c.index(v)+1]\n",
    "                    nexttab = tab[:tab.index(c)] + tab[tab.index(c)+1:]\n",
    "                    self.assemble_cycles(nextcycle, nexttab)\n",
    "                    tab.remove(c)\n",
    "                    break\n",
    "\n",
    "    def add_vertex(self, seq):\n",
    "        if seq not in self.vertices:\n",
    "            # si le vertex n'existe pas, on le créé\n",
    "            v = Vertex(seq)\n",
    "            self.vertices[seq] = v\n",
    "            return v\n",
    "        else:\n",
    "            # s'il existe, la fonction va juste le chercher\n",
    "            return self.vertices[seq]\n",
    "    \n",
    "    def add_edge(self, seq, v_from, v_to):\n",
    "        if seq not in self.edges:\n",
    "            e = Edge(seq, v_from, v_to)\n",
    "            self.edges[seq] = e\n",
    "            return e\n",
    "        else:\n",
    "            return self.edges[seq]\n",
    "            \n",
    "    \n",
    "    \n",
    "    \n",
    "    \n",
    "class Edge:\n",
    "    def __init__(self, sequence, vertex_from, vertex_to):\n",
    "        self.sequence = sequence\n",
    "        self.vertex_from = vertex_from\n",
    "        self.vertex_to = vertex_to\n",
    "\n",
    "            \n",
    "        \n",
    "class Vertex:\n",
    "    def __init__(self, sequence):\n",
    "        self.sequence = sequence\n",
    "        self.edges_in = set()\n",
    "        self.edges_out = set()\n"
   ]
  },
  {
   "cell_type": "code",
   "execution_count": 6,
   "metadata": {},
   "outputs": [
    {
     "name": "stdout",
     "output_type": "stream",
     "text": [
      "0.21599054336547852\n",
      "1.521254539489746\n",
      "39.27867245674133\n",
      "SUCCESS : This graph is Eulerian !\n",
      "39.444478273391724\n",
      "1 cycle found\n",
      "39.95925307273865\n",
      "40.07105112075806\n",
      "40.29884719848633\n",
      "BRAVO : The re-assembled genome matches to the starting genome !!\n",
      "40.30382466316223\n"
     ]
    }
   ],
   "source": [
    "# PROGRAMME PRINCIPAL\n",
    "# Parameters\n",
    "genome_length= 600000\n",
    "read_length=100\n",
    "reads_nb=200000\n",
    "kmers_length=55\n",
    "\n",
    "\n",
    "t = time.time()\n",
    "# Genome generation\n",
    "genome= Genome(''.join(rd.choices([\"A\", \"T\", \"G\", \"C\"], k=genome_length)))\n",
    "# genome = Genome('ATGGCGTGCA')\n",
    "print(time.time()-t)\n",
    "\n",
    "\n",
    "# Reads generation\n",
    "Read.reads = genome.sequencing(read_length=read_length, reads_nb=reads_nb)\n",
    "print(time.time()-t)\n",
    "\n",
    "# Graph creation (empty)\n",
    "graph = Graph()\n",
    "\n",
    "\n",
    "# Vertices & Edges generation\n",
    "for r in Read.reads:\n",
    "    for kmer in r.generate_kmers(kmers_length=kmers_length):\n",
    "        # Vertices\n",
    "        v_from = graph.add_vertex(kmer[:-1])  # prefix\n",
    "        v_to = graph.add_vertex(kmer[1:])   # suffix\n",
    "        # Edges\n",
    "        e = graph.add_edge(kmer, v_from, v_to)\n",
    "        # add this edge into the vertices attributes\n",
    "        v_from.edges_out.add(e)\n",
    "        v_to.edges_in.add(e)\n",
    "print(time.time()-t)\n",
    "\n",
    "\n",
    "# Test Eulerien\n",
    "graph.test_eulerian()\n",
    "print(time.time()-t)\n",
    "\n",
    "\n",
    "# Trouve tous les cycles\n",
    "graph.find_all_cycles()\n",
    "print(str(len(graph.euler_cycles))+' cycle found')\n",
    "print(time.time()-t)\n",
    "\n",
    "\n",
    "# Assemble les cycles\n",
    "graph.assemble_cycles(graph.euler_cycles[0], graph.euler_cycles[1:])\n",
    "print(time.time()-t)\n",
    "\n",
    "# Recréé la sequence\n",
    "genome_assembly = ''\n",
    "for v in graph.euler_biggest:\n",
    "    genome_assembly += v.sequence[0]\n",
    "print(time.time()-t)\n",
    "\n",
    "\n",
    "# Test genome de départ == genome assemblé\n",
    "if genome.sequence in genome_assembly*2:\n",
    "    print('BRAVO : The re-assembled genome matches to the starting genome !!')\n",
    "else :  \n",
    "    print('SORRY : The re-assembled genome does not match the starting genome')\n",
    "print(time.time()-t)\n",
    "\n"
   ]
  },
  {
   "cell_type": "code",
   "execution_count": null,
   "metadata": {},
   "outputs": [],
   "source": []
  },
  {
   "cell_type": "code",
   "execution_count": null,
   "metadata": {},
   "outputs": [],
   "source": []
  },
  {
   "cell_type": "code",
   "execution_count": null,
   "metadata": {},
   "outputs": [],
   "source": []
  },
  {
   "cell_type": "code",
   "execution_count": null,
   "metadata": {},
   "outputs": [],
   "source": []
  },
  {
   "cell_type": "code",
   "execution_count": 2,
   "metadata": {},
   "outputs": [
    {
     "data": {
      "text/plain": [
       "['__class__',\n",
       " '__contains__',\n",
       " '__delattr__',\n",
       " '__delitem__',\n",
       " '__dir__',\n",
       " '__doc__',\n",
       " '__eq__',\n",
       " '__format__',\n",
       " '__ge__',\n",
       " '__getattribute__',\n",
       " '__getitem__',\n",
       " '__gt__',\n",
       " '__hash__',\n",
       " '__init__',\n",
       " '__init_subclass__',\n",
       " '__iter__',\n",
       " '__le__',\n",
       " '__len__',\n",
       " '__lt__',\n",
       " '__ne__',\n",
       " '__new__',\n",
       " '__reduce__',\n",
       " '__reduce_ex__',\n",
       " '__repr__',\n",
       " '__setattr__',\n",
       " '__setitem__',\n",
       " '__sizeof__',\n",
       " '__str__',\n",
       " '__subclasshook__',\n",
       " 'clear',\n",
       " 'copy',\n",
       " 'fromkeys',\n",
       " 'get',\n",
       " 'items',\n",
       " 'keys',\n",
       " 'pop',\n",
       " 'popitem',\n",
       " 'setdefault',\n",
       " 'update',\n",
       " 'values']"
      ]
     },
     "execution_count": 2,
     "metadata": {},
     "output_type": "execute_result"
    }
   ],
   "source": [
    "dir({})"
   ]
  },
  {
   "cell_type": "code",
   "execution_count": null,
   "metadata": {},
   "outputs": [],
   "source": []
  },
  {
   "cell_type": "code",
   "execution_count": null,
   "metadata": {},
   "outputs": [],
   "source": []
  },
  {
   "cell_type": "code",
   "execution_count": null,
   "metadata": {},
   "outputs": [],
   "source": []
  },
  {
   "cell_type": "code",
   "execution_count": null,
   "metadata": {},
   "outputs": [],
   "source": []
  },
  {
   "cell_type": "code",
   "execution_count": null,
   "metadata": {},
   "outputs": [],
   "source": []
  },
  {
   "cell_type": "code",
   "execution_count": null,
   "metadata": {},
   "outputs": [],
   "source": []
  },
  {
   "cell_type": "code",
   "execution_count": null,
   "metadata": {},
   "outputs": [],
   "source": []
  },
  {
   "cell_type": "code",
   "execution_count": null,
   "metadata": {},
   "outputs": [],
   "source": []
  },
  {
   "cell_type": "code",
   "execution_count": null,
   "metadata": {},
   "outputs": [],
   "source": []
  },
  {
   "cell_type": "code",
   "execution_count": null,
   "metadata": {},
   "outputs": [],
   "source": []
  },
  {
   "cell_type": "code",
   "execution_count": 8,
   "metadata": {},
   "outputs": [],
   "source": [
    "n = 1"
   ]
  },
  {
   "cell_type": "code",
   "execution_count": 9,
   "metadata": {},
   "outputs": [
    {
     "data": {
      "text/plain": [
       "'cycle'"
      ]
     },
     "execution_count": 9,
     "metadata": {},
     "output_type": "execute_result"
    }
   ],
   "source": [
    "'cycle{}'.format('s' if n > 1 else '')"
   ]
  },
  {
   "cell_type": "code",
   "execution_count": 13,
   "metadata": {},
   "outputs": [
    {
     "name": "stdout",
     "output_type": "stream",
     "text": [
      "1 Euler cycle found in the graph\n"
     ]
    }
   ],
   "source": [
    "print('{} Euler cycle{} found in the graph'.format(1, 's' if 1 > 1 else ''))\n"
   ]
  },
  {
   "cell_type": "code",
   "execution_count": 16,
   "metadata": {},
   "outputs": [],
   "source": [
    "a='je mandge'"
   ]
  },
  {
   "cell_type": "code",
   "execution_count": 17,
   "metadata": {},
   "outputs": [
    {
     "data": {
      "text/plain": [
       "'je mandge'"
      ]
     },
     "execution_count": 17,
     "metadata": {},
     "output_type": "execute_result"
    }
   ],
   "source": [
    "a[0:80]"
   ]
  },
  {
   "cell_type": "code",
   "execution_count": null,
   "metadata": {},
   "outputs": [],
   "source": []
  },
  {
   "cell_type": "code",
   "execution_count": null,
   "metadata": {},
   "outputs": [],
   "source": []
  },
  {
   "cell_type": "code",
   "execution_count": null,
   "metadata": {},
   "outputs": [],
   "source": []
  },
  {
   "cell_type": "code",
   "execution_count": null,
   "metadata": {},
   "outputs": [],
   "source": []
  },
  {
   "cell_type": "code",
   "execution_count": null,
   "metadata": {},
   "outputs": [],
   "source": []
  },
  {
   "cell_type": "code",
   "execution_count": null,
   "metadata": {},
   "outputs": [],
   "source": []
  },
  {
   "cell_type": "code",
   "execution_count": null,
   "metadata": {},
   "outputs": [],
   "source": []
  },
  {
   "cell_type": "code",
   "execution_count": null,
   "metadata": {},
   "outputs": [],
   "source": []
  }
 ],
 "metadata": {
  "kernelspec": {
   "display_name": "Python 3",
   "language": "python",
   "name": "python3"
  },
  "language_info": {
   "codemirror_mode": {
    "name": "ipython",
    "version": 3
   },
   "file_extension": ".py",
   "mimetype": "text/x-python",
   "name": "python",
   "nbconvert_exporter": "python",
   "pygments_lexer": "ipython3",
   "version": "3.6.4"
  }
 },
 "nbformat": 4,
 "nbformat_minor": 2
}
