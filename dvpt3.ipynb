{
 "cells": [
  {
   "cell_type": "markdown",
   "metadata": {},
   "source": [
    "# Notebook for development of the script 3"
   ]
  },
  {
   "cell_type": "code",
   "execution_count": 4,
   "metadata": {},
   "outputs": [],
   "source": [
    "import random as rd\n",
    "import numpy as np\n",
    "import matplotlib.pyplot as plt\n",
    "from Bio.Seq import *\n",
    "from Bio.Alphabet.IUPAC import IUPACAmbiguousDNA, IUPACUnambiguousDNA\n",
    "import reprlib\n",
    "import time\n",
    "from sys import getsizeof"
   ]
  },
  {
   "cell_type": "code",
   "execution_count": 41,
   "metadata": {},
   "outputs": [],
   "source": [
    "class Genome(Seq):\n",
    "    \"\"\"Classe Genome\"\"\"\n",
    "    def __init__(self, seq, circular=True):\n",
    "        Seq.__init__(self, seq, alphabet=IUPACUnambiguousDNA())\n",
    "        self.circular=circular\n",
    "        \n",
    "    def sequencing(self, read_length=100, reads_nb=5000):\n",
    "        reads=[]\n",
    "        for _ in range(reads_nb):\n",
    "            start = rd.randint(0, len(self)-1)\n",
    "            read_seq = self._data[start:min(start+100, len(self))] + self._data[0:max(start+100-len(self), 0)]\n",
    "            read = Read(read_seq)\n",
    "            reads.append(read)\n",
    "        return reads\n"
   ]
  },
  {
   "cell_type": "code",
   "execution_count": 42,
   "metadata": {},
   "outputs": [],
   "source": [
    "class Read(Seq):\n",
    "    \"\"\"Classe Read\"\"\"\n",
    "    reads=[]\n",
    "    \n",
    "    def __init__(self, seq, circular=True):\n",
    "        Seq.__init__(self, seq, alphabet=IUPACUnambiguousDNA())\n",
    "    \n",
    "    def generate_kmers(self, kmers_length=30):\n",
    "        \"\"\"Returns a list of the k-mers included in the read\"\"\"\n",
    "        kmers=[]\n",
    "        for i in range(len(self) - kmers_length):\n",
    "            kmer_seq = self._data[i:i+kmers_length]\n",
    "            kmer = Kmer(kmer_seq)\n",
    "            kmers.append(kmer)\n",
    "        return kmers\n"
   ]
  },
  {
   "cell_type": "code",
   "execution_count": 43,
   "metadata": {},
   "outputs": [],
   "source": [
    "class Kmer(Seq):\n",
    "    \"\"\"Classe Kmer\"\"\"\n",
    "    kmers=set()\n",
    "    \n",
    "    def __init__(self, seq):\n",
    "        Seq.__init__(self, seq, alphabet=IUPACUnambiguousDNA())\n",
    "        self.prefix = None\n",
    "        self.suffix = None\n",
    "    "
   ]
  },
  {
   "cell_type": "code",
   "execution_count": 44,
   "metadata": {},
   "outputs": [],
   "source": [
    "class Sommet(Seq):\n",
    "    \"\"\"Classe Sommet\"\"\"\n",
    "    sommets = {}\n",
    "    \n",
    "    def __init__(self, seq):\n",
    "        Seq.__init__(self, seq, alphabet=IUPACUnambiguousDNA())\n",
    "        "
   ]
  },
  {
   "cell_type": "code",
   "execution_count": 45,
   "metadata": {},
   "outputs": [],
   "source": [
    "class Graph:\n",
    "    def __init__(self, list_sommets):\n",
    "        self.network = {}.fromkeys(list_sommets, [])\n",
    "        self.eulerian = None\n",
    "    \n",
    "    def fill_network(self, kmers):\n",
    "        for kmer in kmers:\n",
    "            self.network[kmer.prefix].append(kmer.suffix)\n",
    "    \n",
    "    def test_eulerian(self):\n",
    "        for i in range(len(self.nodes)):\n",
    "            if self.matrix[i, :].sum() != self.matrix[:, i].sum():\n",
    "                print(\"PROBLEM : This graph is not Eulerian.\")\n",
    "                self.eulerian = False\n",
    "                break\n",
    "        if self.eulerian != False:\n",
    "            print('SUCCESS : This graph is Eulerian !!')\n",
    "            self.eulerian = True\n",
    "        "
   ]
  },
  {
   "cell_type": "code",
   "execution_count": 46,
   "metadata": {},
   "outputs": [],
   "source": [
    "# Trouve 1 cycle\n",
    "def find_eulerian_cycle():\n",
    "    # attention, ce code ne gere pas les sommets connectés avec eux-memes\n",
    "    cycle = []\n",
    "    start, s = np.array(np.where(graph.matrix))[   :,0]\n",
    "    cycle.append(start)\n",
    "    graph.matrix[start, s]-=1\n",
    "    while s!= start:\n",
    "        cycle.append(s)\n",
    "        t = np.where(graph.matrix[s, :])[0][0]     # s comme sommet, t comme temporary\n",
    "        graph.matrix[s, t]-=1\n",
    "        s = t\n",
    "    return cycle"
   ]
  },
  {
   "cell_type": "code",
   "execution_count": 47,
   "metadata": {},
   "outputs": [],
   "source": [
    "# Test fin\n",
    "def test_fin():\n",
    "    if graph.matrix.sum()==0: return True\n",
    "    else: return False"
   ]
  },
  {
   "cell_type": "code",
   "execution_count": 48,
   "metadata": {},
   "outputs": [],
   "source": [
    "# Assemble les cycles\n",
    "def assemble(cycle, tab):      # cycle a parcourir pour avancer \n",
    "                           # & tableau des cycles restant a parcourir\n",
    "    for s in cycle:        # prenons un sommet du cycle\n",
    "        seq.append(s)        # ajoutons le a la sequence\n",
    "        for c in tab:          # puis testons s'il est également connecté à un des cycles restant\n",
    "            if s in c:\n",
    "                nextcycle = c[c.index(s)+1:] + c[:c.index(s)+1]     # Si oui, recadrons le prochain cycle pour que le parcours de la liste commence bien au début\n",
    "                nexttab = tab[tab.index(c)+1:] + tab[:tab.index(c)]   # enlevons également ce cycle du tableau pour le prochain appel de la fonction\n",
    "                assemble(nextcycle, nexttab)\n",
    "                tab.remove(c)\n",
    "                break\n",
    "                "
   ]
  },
  {
   "cell_type": "code",
   "execution_count": 49,
   "metadata": {},
   "outputs": [
    {
     "name": "stdout",
     "output_type": "stream",
     "text": [
      "[Read('TGGCGTG...mbiguousDNA()), Read('CAATGGC...mbiguousDNA()), Read('CAATGGC...mbiguousDNA()), Read('GCAATGG...mbiguousDNA()), Read('AATGGCG...mbiguousDNA()), Read('GCAATGG...mbiguousDNA()), ...]\n",
      "{Kmer('AAT', I...mbiguousDNA()), Kmer('ATG', I...mbiguousDNA()), Kmer('CAA', I...mbiguousDNA()), Kmer('CGT', I...mbiguousDNA()), Kmer('GCA', I...mbiguousDNA()), Kmer('GCG', I...mbiguousDNA()), ...}\n",
      "8\n",
      "{Sommet('AA', ...mbiguousDNA()): [], Sommet('AT', ...mbiguousDNA()): [], Sommet('CA', ...mbiguousDNA()): [], Sommet('CG', ...mbiguousDNA()): [], ...}\n",
      "{Sommet('AA', ...mbiguousDNA()): [Sommet('GC', ...mbiguousDNA()), Sommet('AT', ...mbiguousDNA()), Sommet('GG', ...mbiguousDNA()), Sommet('GT', ...mbiguousDNA()), Sommet('TG', ...mbiguousDNA()), Sommet('CA', ...mbiguousDNA()), ...], Sommet('AT', ...mbiguousDNA()): [Sommet('GC', ...mbiguousDNA()), Sommet('AT', ...mbiguousDNA()), Sommet('GG', ...mbiguousDNA()), Sommet('GT', ...mbiguousDNA()), Sommet('TG', ...mbiguousDNA()), Sommet('CA', ...mbiguousDNA()), ...], Sommet('CA', ...mbiguousDNA()): [Sommet('GC', ...mbiguousDNA()), Sommet('AT', ...mbiguousDNA()), Sommet('GG', ...mbiguousDNA()), Sommet('GT', ...mbiguousDNA()), Sommet('TG', ...mbiguousDNA()), Sommet('CA', ...mbiguousDNA()), ...], Sommet('CG', ...mbiguousDNA()): [Sommet('GC', ...mbiguousDNA()), Sommet('AT', ...mbiguousDNA()), Sommet('GG', ...mbiguousDNA()), Sommet('GT', ...mbiguousDNA()), Sommet('TG', ...mbiguousDNA()), Sommet('CA', ...mbiguousDNA()), ...], ...}\n"
     ]
    },
    {
     "name": "stderr",
     "output_type": "stream",
     "text": [
      "/opt/sdv/anaconda/lib/python3.6/site-packages/Bio/Seq.py:155: BiopythonWarning: Biopython Seq objects now use string comparison. Older versions of Biopython used object comparison. During this transition, please use hash(id(my_seq)) or my_dict[id(my_seq)] if you want the old behaviour, or use hash(str(my_seq)) or my_dict[str(my_seq)] for the new string hashing behaviour.\n",
      "  \"the new string hashing behaviour.\", BiopythonWarning)\n"
     ]
    },
    {
     "ename": "AttributeError",
     "evalue": "'Graph' object has no attribute 'nodes'",
     "output_type": "error",
     "traceback": [
      "\u001b[0;31m---------------------------------------------------------------------------\u001b[0m",
      "\u001b[0;31mAttributeError\u001b[0m                            Traceback (most recent call last)",
      "\u001b[0;32m<ipython-input-49-54d16d7ee93d>\u001b[0m in \u001b[0;36m<module>\u001b[0;34m()\u001b[0m\n\u001b[1;32m     47\u001b[0m \u001b[0mprint\u001b[0m\u001b[0;34m(\u001b[0m\u001b[0mreprlib\u001b[0m\u001b[0;34m.\u001b[0m\u001b[0mrepr\u001b[0m\u001b[0;34m(\u001b[0m\u001b[0mgraph\u001b[0m\u001b[0;34m.\u001b[0m\u001b[0mnetwork\u001b[0m\u001b[0;34m)\u001b[0m\u001b[0;34m)\u001b[0m\u001b[0;34m\u001b[0m\u001b[0m\n\u001b[1;32m     48\u001b[0m \u001b[0;34m\u001b[0m\u001b[0m\n\u001b[0;32m---> 49\u001b[0;31m \u001b[0mgraph\u001b[0m\u001b[0;34m.\u001b[0m\u001b[0mtest_eulerian\u001b[0m\u001b[0;34m(\u001b[0m\u001b[0;34m)\u001b[0m\u001b[0;34m\u001b[0m\u001b[0m\n\u001b[0m\u001b[1;32m     50\u001b[0m \u001b[0mprint\u001b[0m\u001b[0;34m(\u001b[0m\u001b[0mreprlib\u001b[0m\u001b[0;34m.\u001b[0m\u001b[0mrepr\u001b[0m\u001b[0;34m(\u001b[0m\u001b[0mgraph\u001b[0m\u001b[0;34m.\u001b[0m\u001b[0mnodes\u001b[0m\u001b[0;34m)\u001b[0m\u001b[0;34m)\u001b[0m\u001b[0;34m\u001b[0m\u001b[0m\n\u001b[1;32m     51\u001b[0m \u001b[0;34m\u001b[0m\u001b[0m\n",
      "\u001b[0;32m<ipython-input-45-efbe95598a84>\u001b[0m in \u001b[0;36mtest_eulerian\u001b[0;34m(self)\u001b[0m\n\u001b[1;32m      9\u001b[0m \u001b[0;34m\u001b[0m\u001b[0m\n\u001b[1;32m     10\u001b[0m     \u001b[0;32mdef\u001b[0m \u001b[0mtest_eulerian\u001b[0m\u001b[0;34m(\u001b[0m\u001b[0mself\u001b[0m\u001b[0;34m)\u001b[0m\u001b[0;34m:\u001b[0m\u001b[0;34m\u001b[0m\u001b[0m\n\u001b[0;32m---> 11\u001b[0;31m         \u001b[0;32mfor\u001b[0m \u001b[0mi\u001b[0m \u001b[0;32min\u001b[0m \u001b[0mrange\u001b[0m\u001b[0;34m(\u001b[0m\u001b[0mlen\u001b[0m\u001b[0;34m(\u001b[0m\u001b[0mself\u001b[0m\u001b[0;34m.\u001b[0m\u001b[0mnodes\u001b[0m\u001b[0;34m)\u001b[0m\u001b[0;34m)\u001b[0m\u001b[0;34m:\u001b[0m\u001b[0;34m\u001b[0m\u001b[0m\n\u001b[0m\u001b[1;32m     12\u001b[0m             \u001b[0;32mif\u001b[0m \u001b[0mself\u001b[0m\u001b[0;34m.\u001b[0m\u001b[0mmatrix\u001b[0m\u001b[0;34m[\u001b[0m\u001b[0mi\u001b[0m\u001b[0;34m,\u001b[0m \u001b[0;34m:\u001b[0m\u001b[0;34m]\u001b[0m\u001b[0;34m.\u001b[0m\u001b[0msum\u001b[0m\u001b[0;34m(\u001b[0m\u001b[0;34m)\u001b[0m \u001b[0;34m!=\u001b[0m \u001b[0mself\u001b[0m\u001b[0;34m.\u001b[0m\u001b[0mmatrix\u001b[0m\u001b[0;34m[\u001b[0m\u001b[0;34m:\u001b[0m\u001b[0;34m,\u001b[0m \u001b[0mi\u001b[0m\u001b[0;34m]\u001b[0m\u001b[0;34m.\u001b[0m\u001b[0msum\u001b[0m\u001b[0;34m(\u001b[0m\u001b[0;34m)\u001b[0m\u001b[0;34m:\u001b[0m\u001b[0;34m\u001b[0m\u001b[0m\n\u001b[1;32m     13\u001b[0m                 \u001b[0mprint\u001b[0m\u001b[0;34m(\u001b[0m\u001b[0;34m\"PROBLEM : This graph is not Eulerian.\"\u001b[0m\u001b[0;34m)\u001b[0m\u001b[0;34m\u001b[0m\u001b[0m\n",
      "\u001b[0;31mAttributeError\u001b[0m: 'Graph' object has no attribute 'nodes'"
     ]
    }
   ],
   "source": [
    "# PROGRAMME PRINCIPAL\n",
    "# Parameters\n",
    "genome_length= 1000\n",
    "read_length=7\n",
    "reads_nb=20\n",
    "kmers_length=3\n",
    "\n",
    "# Genome generation\n",
    "# genome= Genome(''.join(rd.choices([\"A\", \"T\", \"G\", \"C\"], k=genome_length)), circular=True)\n",
    "genome = Genome('ATGGCGTGCA')\n",
    "\n",
    "# Reads generation\n",
    "Read.reads = genome.sequencing(read_length=read_length, reads_nb=reads_nb)\n",
    "print(reprlib.repr(Read.reads))\n",
    "\n",
    "# K-mers generation\n",
    "for read in Read.reads:\n",
    "    Kmer.kmers.update(read.generate_kmers(kmers_length=kmers_length))\n",
    "print(reprlib.repr(Kmer.kmers))\n",
    "\n",
    "# (K-1)-mers generation\n",
    "for kmer in Kmer.kmers:\n",
    "    #prefix\n",
    "    pref = kmer[:-1]\n",
    "    if pref not in Sommet.sommets:\n",
    "        s = Sommet(str(pref))\n",
    "        Sommet.sommets[pref] = s\n",
    "        kmer.prefix = s\n",
    "    else:\n",
    "        kmer.prefix = Sommet.sommets[pref]\n",
    "    #suffix\n",
    "    suff = kmer[1:]\n",
    "    if suff not in Sommet.sommets:\n",
    "        s = Sommet(str(suff))\n",
    "        Sommet.sommets[suff] = s\n",
    "        kmer.suffix = s\n",
    "    else:\n",
    "        kmer.suffix = Sommet.sommets[suff]\n",
    "print(reprlib.repr(len(Sommet.sommets)))\n",
    "    \n",
    "    \n",
    "    \n",
    "# Graph generation\n",
    "graph = Graph(Sommet.sommets.values())\n",
    "print(reprlib.repr(graph.network))\n",
    "graph.fill_network(Kmer.kmers)\n",
    "print(reprlib.repr(graph.network))\n",
    "\n",
    "graph.test_eulerian()\n",
    "print(reprlib.repr(graph.nodes))\n",
    "\n",
    "# Trouve tous les cycles\n",
    "cycles = []\n",
    "while test_fin() == False:\n",
    "    cycles.append(find_eulerian_cycle())\n",
    "print(str(len(cycles))+' cycles trouvés')\n",
    "\n",
    "# Assemble les cycles\n",
    "if len(cycles) == 1:\n",
    "    seq = cycles[0]\n",
    "else:\n",
    "    seq=[]\n",
    "    assemble(cycles[0], cycles[1:])\n",
    "print(reprlib.repr(seq))\n",
    "\n",
    "# Recréé la sequence\n",
    "genome_assembly = ''\n",
    "for s in seq:\n",
    "    genome_assembly+=graph.nodes[s][0]\n",
    "genome_assembly\n",
    "\n",
    "# test genome de départ == genome assemblé\n",
    "offset = (genome_assembly*2).index(genome._data)\n",
    "genome_assembly[offset:]+genome_assembly[:offset] == genome._data"
   ]
  },
  {
   "cell_type": "code",
   "execution_count": 50,
   "metadata": {},
   "outputs": [
    {
     "data": {
      "text/plain": [
       "20"
      ]
     },
     "execution_count": 50,
     "metadata": {},
     "output_type": "execute_result"
    }
   ],
   "source": [
    "len(Read.reads)"
   ]
  },
  {
   "cell_type": "code",
   "execution_count": 51,
   "metadata": {},
   "outputs": [
    {
     "data": {
      "text/plain": [
       "10"
      ]
     },
     "execution_count": 51,
     "metadata": {},
     "output_type": "execute_result"
    }
   ],
   "source": [
    "len(Kmer.kmers)"
   ]
  },
  {
   "cell_type": "code",
   "execution_count": 52,
   "metadata": {},
   "outputs": [
    {
     "data": {
      "text/plain": [
       "8"
      ]
     },
     "execution_count": 52,
     "metadata": {},
     "output_type": "execute_result"
    }
   ],
   "source": [
    "len(Sommet.sommets)"
   ]
  },
  {
   "cell_type": "code",
   "execution_count": 53,
   "metadata": {},
   "outputs": [
    {
     "name": "stderr",
     "output_type": "stream",
     "text": [
      "/opt/sdv/anaconda/lib/python3.6/site-packages/Bio/Seq.py:155: BiopythonWarning: Biopython Seq objects now use string comparison. Older versions of Biopython used object comparison. During this transition, please use hash(id(my_seq)) or my_dict[id(my_seq)] if you want the old behaviour, or use hash(str(my_seq)) or my_dict[str(my_seq)] for the new string hashing behaviour.\n",
      "  \"the new string hashing behaviour.\", BiopythonWarning)\n"
     ]
    },
    {
     "data": {
      "text/plain": [
       "{Seq('GG', IUPACUnambiguousDNA()): Sommet('GG', IUPACUnambiguousDNA()),\n",
       " Seq('GC', IUPACUnambiguousDNA()): Sommet('GC', IUPACUnambiguousDNA()),\n",
       " Seq('AA', IUPACUnambiguousDNA()): Sommet('AA', IUPACUnambiguousDNA()),\n",
       " Seq('AT', IUPACUnambiguousDNA()): Sommet('AT', IUPACUnambiguousDNA()),\n",
       " Seq('TG', IUPACUnambiguousDNA()): Sommet('TG', IUPACUnambiguousDNA()),\n",
       " Seq('CG', IUPACUnambiguousDNA()): Sommet('CG', IUPACUnambiguousDNA()),\n",
       " Seq('GT', IUPACUnambiguousDNA()): Sommet('GT', IUPACUnambiguousDNA()),\n",
       " Seq('CA', IUPACUnambiguousDNA()): Sommet('CA', IUPACUnambiguousDNA())}"
      ]
     },
     "execution_count": 53,
     "metadata": {},
     "output_type": "execute_result"
    }
   ],
   "source": [
    "Sommet.sommets"
   ]
  },
  {
   "cell_type": "code",
   "execution_count": null,
   "metadata": {},
   "outputs": [],
   "source": []
  },
  {
   "cell_type": "code",
   "execution_count": null,
   "metadata": {},
   "outputs": [],
   "source": []
  },
  {
   "cell_type": "code",
   "execution_count": null,
   "metadata": {},
   "outputs": [],
   "source": []
  },
  {
   "cell_type": "code",
   "execution_count": null,
   "metadata": {},
   "outputs": [],
   "source": []
  },
  {
   "cell_type": "code",
   "execution_count": null,
   "metadata": {},
   "outputs": [],
   "source": []
  },
  {
   "cell_type": "code",
   "execution_count": null,
   "metadata": {},
   "outputs": [],
   "source": []
  },
  {
   "cell_type": "code",
   "execution_count": null,
   "metadata": {},
   "outputs": [],
   "source": []
  },
  {
   "cell_type": "code",
   "execution_count": null,
   "metadata": {},
   "outputs": [],
   "source": []
  },
  {
   "cell_type": "code",
   "execution_count": null,
   "metadata": {},
   "outputs": [],
   "source": []
  },
  {
   "cell_type": "code",
   "execution_count": null,
   "metadata": {},
   "outputs": [],
   "source": []
  },
  {
   "cell_type": "code",
   "execution_count": null,
   "metadata": {},
   "outputs": [],
   "source": []
  },
  {
   "cell_type": "code",
   "execution_count": null,
   "metadata": {},
   "outputs": [],
   "source": []
  },
  {
   "cell_type": "markdown",
   "metadata": {},
   "source": [
    "---\n",
    "## Tests"
   ]
  },
  {
   "cell_type": "code",
   "execution_count": null,
   "metadata": {},
   "outputs": [],
   "source": [
    "def assemble(cycle, tab):      # cycle a parcourir pour avancer \n",
    "                           # & tableau des cycles restant a parcourir\n",
    "    for s in cycle:        # prenons un sommet du cycle\n",
    "        seq.append(s)        # ajoutons le a la sequence\n",
    "        for c in tab:          # puis testons s'il est également connecté à un des cycles restant\n",
    "            if s in c:\n",
    "                nextcycle = c[c.index(s)+1:] + c[:c.index(s)]     # Si oui, recadrons le prochain cycle pour que le parcours de la liste commence bien au début\n",
    "                nexttab = tab[tab.index(c)+1:] + tab[:tab.index(c)]   # enlevons également ce cycle du tableau pour le prochain appel de la fonction\n",
    "                \n",
    "                "
   ]
  },
  {
   "cell_type": "code",
   "execution_count": null,
   "metadata": {},
   "outputs": [],
   "source": [
    "def assemble(cycle, tab):      # cycle a parcourir pour avancer \n",
    "                           # & tableau des cycles restant a parcourir\n",
    "    for s in cycle:        # prenons un sommet du cycle\n",
    "        seq.append(s)        # ajoutons le a la sequence\n",
    "        for j, c in enumerate(tab):          # puis testons s'il est également connecté à un des cycles restant\n",
    "            for i, s1 in enumerate(c):\n",
    "                if s == s1:\n",
    "                    nextcycle = c[i+1:] + c[:i]     # Si oui, recadrons le prochain cycle pour que le parcours de la liste commence bien au début\n",
    "                    nexttab = tab[j+1:] + tab[:j]   # enlevons également ce cycle du tableau pour le prochain appel de la fonction\n",
    "            \n",
    "            \n",
    "            \n",
    "            \n",
    "            if s in c:\n",
    "                nextcycle = c[c.index(s)+1:] + c[:c.index(s)]     # Si oui, recadrons le prochain cycle pour que le parcours de la liste commence bien au début\n",
    "                nexttab = tab[j+1:] + tab[:j]   # enlevons également ce cycle du tableau pour le prochain appel de la fonction\n",
    "                \n",
    "                "
   ]
  },
  {
   "cell_type": "code",
   "execution_count": null,
   "metadata": {},
   "outputs": [],
   "source": []
  },
  {
   "cell_type": "code",
   "execution_count": null,
   "metadata": {},
   "outputs": [],
   "source": []
  },
  {
   "cell_type": "code",
   "execution_count": null,
   "metadata": {},
   "outputs": [],
   "source": []
  },
  {
   "cell_type": "code",
   "execution_count": 11,
   "metadata": {},
   "outputs": [],
   "source": [
    "a = set(['AT', 'RE', 'GK'])"
   ]
  },
  {
   "cell_type": "code",
   "execution_count": 17,
   "metadata": {},
   "outputs": [],
   "source": [
    "class Sommet:\n",
    "    def __init__(self, seq):\n",
    "        self.seq=seq"
   ]
  },
  {
   "cell_type": "code",
   "execution_count": 23,
   "metadata": {},
   "outputs": [],
   "source": [
    "s = Sommet('ATA')"
   ]
  },
  {
   "cell_type": "code",
   "execution_count": 25,
   "metadata": {},
   "outputs": [
    {
     "data": {
      "text/plain": [
       "8733618324814"
      ]
     },
     "execution_count": 25,
     "metadata": {},
     "output_type": "execute_result"
    }
   ],
   "source": [
    "s.__hash__()"
   ]
  },
  {
   "cell_type": "code",
   "execution_count": 26,
   "metadata": {},
   "outputs": [],
   "source": [
    "b = s"
   ]
  },
  {
   "cell_type": "code",
   "execution_count": 27,
   "metadata": {},
   "outputs": [
    {
     "data": {
      "text/plain": [
       "8733618324814"
      ]
     },
     "execution_count": 27,
     "metadata": {},
     "output_type": "execute_result"
    }
   ],
   "source": [
    "hash(b)"
   ]
  },
  {
   "cell_type": "code",
   "execution_count": 28,
   "metadata": {},
   "outputs": [],
   "source": [
    "c = Sommet('ATA')"
   ]
  },
  {
   "cell_type": "code",
   "execution_count": 29,
   "metadata": {},
   "outputs": [
    {
     "data": {
      "text/plain": [
       "8733618327304"
      ]
     },
     "execution_count": 29,
     "metadata": {},
     "output_type": "execute_result"
    }
   ],
   "source": [
    "hash(c)"
   ]
  },
  {
   "cell_type": "code",
   "execution_count": 34,
   "metadata": {},
   "outputs": [
    {
     "data": {
      "text/plain": [
       "{'seq': 'ATA'}"
      ]
     },
     "execution_count": 34,
     "metadata": {},
     "output_type": "execute_result"
    }
   ],
   "source": []
  },
  {
   "cell_type": "code",
   "execution_count": null,
   "metadata": {},
   "outputs": [],
   "source": []
  },
  {
   "cell_type": "code",
   "execution_count": null,
   "metadata": {},
   "outputs": [],
   "source": []
  },
  {
   "cell_type": "code",
   "execution_count": 35,
   "metadata": {},
   "outputs": [],
   "source": [
    "a = {}"
   ]
  },
  {
   "cell_type": "code",
   "execution_count": 36,
   "metadata": {},
   "outputs": [
    {
     "data": {
      "text/plain": [
       "['__class__',\n",
       " '__contains__',\n",
       " '__delattr__',\n",
       " '__delitem__',\n",
       " '__dir__',\n",
       " '__doc__',\n",
       " '__eq__',\n",
       " '__format__',\n",
       " '__ge__',\n",
       " '__getattribute__',\n",
       " '__getitem__',\n",
       " '__gt__',\n",
       " '__hash__',\n",
       " '__init__',\n",
       " '__init_subclass__',\n",
       " '__iter__',\n",
       " '__le__',\n",
       " '__len__',\n",
       " '__lt__',\n",
       " '__ne__',\n",
       " '__new__',\n",
       " '__reduce__',\n",
       " '__reduce_ex__',\n",
       " '__repr__',\n",
       " '__setattr__',\n",
       " '__setitem__',\n",
       " '__sizeof__',\n",
       " '__str__',\n",
       " '__subclasshook__',\n",
       " 'clear',\n",
       " 'copy',\n",
       " 'fromkeys',\n",
       " 'get',\n",
       " 'items',\n",
       " 'keys',\n",
       " 'pop',\n",
       " 'popitem',\n",
       " 'setdefault',\n",
       " 'update',\n",
       " 'values']"
      ]
     },
     "execution_count": 36,
     "metadata": {},
     "output_type": "execute_result"
    }
   ],
   "source": [
    "dir(a)"
   ]
  },
  {
   "cell_type": "code",
   "execution_count": null,
   "metadata": {},
   "outputs": [],
   "source": [
    "a[]"
   ]
  },
  {
   "cell_type": "code",
   "execution_count": null,
   "metadata": {},
   "outputs": [],
   "source": []
  },
  {
   "cell_type": "code",
   "execution_count": null,
   "metadata": {},
   "outputs": [],
   "source": []
  },
  {
   "cell_type": "code",
   "execution_count": null,
   "metadata": {},
   "outputs": [],
   "source": []
  },
  {
   "cell_type": "code",
   "execution_count": null,
   "metadata": {},
   "outputs": [],
   "source": []
  },
  {
   "cell_type": "code",
   "execution_count": null,
   "metadata": {},
   "outputs": [],
   "source": []
  },
  {
   "cell_type": "code",
   "execution_count": null,
   "metadata": {},
   "outputs": [],
   "source": []
  }
 ],
 "metadata": {
  "kernelspec": {
   "display_name": "Python 3",
   "language": "python",
   "name": "python3"
  },
  "language_info": {
   "codemirror_mode": {
    "name": "ipython",
    "version": 3
   },
   "file_extension": ".py",
   "mimetype": "text/x-python",
   "name": "python",
   "nbconvert_exporter": "python",
   "pygments_lexer": "ipython3",
   "version": "3.6.4"
  }
 },
 "nbformat": 4,
 "nbformat_minor": 2
}
