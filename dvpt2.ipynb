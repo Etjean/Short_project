{
 "cells": [
  {
   "cell_type": "markdown",
   "metadata": {},
   "source": [
    "# Notebook for development of the script - 2"
   ]
  },
  {
   "cell_type": "code",
   "execution_count": 3,
   "metadata": {},
   "outputs": [],
   "source": [
    "import random as rd\n",
    "import numpy as np\n",
    "import matplotlib.pyplot as plt\n",
    "from Bio.Seq import *\n",
    "from Bio.Alphabet.IUPAC import IUPACAmbiguousDNA, IUPACUnambiguousDNA\n",
    "import reprlib"
   ]
  },
  {
   "cell_type": "code",
   "execution_count": 4,
   "metadata": {},
   "outputs": [],
   "source": [
    "class Genome(Seq):\n",
    "    \"\"\"Classe Genome\"\"\"\n",
    "    def __init__(self, seq, circular=True):\n",
    "        Seq.__init__(self, seq, alphabet=IUPACUnambiguousDNA())\n",
    "        self.circular=circular\n",
    "        \n",
    "#     def __str__(self):\n",
    "#         \"\"\"To show the attributes and values of the instance\"\"\"\n",
    "#         out=''\n",
    "#         for key, value in self.__dict__.items():\n",
    "#             out+='{:20s}  {}\\n'.format(key, reprlib.repr(value))\n",
    "#         return out\n",
    "\n",
    "    def sequencing(self, read_length=100, reads_nb=5000):\n",
    "        reads=[]\n",
    "        for _ in range(reads_nb):\n",
    "            start = rd.randint(0, len(self)-1)\n",
    "            read_seq = self._data[start:min(start+100, len(self))] + self._data[0:max(start+100-len(self), 0)]\n",
    "            read = Read(read_seq)\n",
    "            reads.append(read)\n",
    "        return reads\n"
   ]
  },
  {
   "cell_type": "code",
   "execution_count": 5,
   "metadata": {},
   "outputs": [],
   "source": [
    "class Read(Seq):\n",
    "    \"\"\"Classe Read\"\"\"\n",
    "    def __init__(self, seq, circular=True):\n",
    "        Seq.__init__(self, seq, alphabet=IUPACUnambiguousDNA())\n",
    "    \n",
    "#     def __str__(self):\n",
    "#         \"\"\"To show the attributes and values of the instance\"\"\"\n",
    "#         out=''\n",
    "#         for key, value in self.__dict__.items():\n",
    "#             out+='{:20s}  {}\\n'.format(key, reprlib.repr(value))\n",
    "#         return out\n",
    "    \n",
    "    def generate_kmers(self, kmers_length=30):\n",
    "        \"\"\"Returns a list of the k-mers included in the read\"\"\"\n",
    "        kmers=[]\n",
    "        for i in range(len(self) - kmers_length):\n",
    "            kmer_seq = self._data[i:i+kmers_length]\n",
    "            kmer = Kmer(kmer_seq)\n",
    "            kmers.append(kmer)\n",
    "        return kmers\n"
   ]
  },
  {
   "cell_type": "code",
   "execution_count": 6,
   "metadata": {},
   "outputs": [],
   "source": [
    "class Kmer(Seq):\n",
    "    \"\"\"Classe Kmer\"\"\"\n",
    "    def __init__(self, seq):\n",
    "        Seq.__init__(self, seq, alphabet=IUPACUnambiguousDNA())\n",
    "        self.prefix = seq[:-1]\n",
    "        self.suffix = seq[1:]\n",
    "    \n",
    "#     def __str__(self):\n",
    "#         \"\"\"To show the attributes and values of the instance\"\"\"\n",
    "#         out=''\n",
    "#         for key, value in self.__dict__.items():\n",
    "#             out+='{:20s}  {}\\n'.format(key, reprlib.repr(value))\n",
    "#         return out\n",
    "    "
   ]
  },
  {
   "cell_type": "code",
   "execution_count": 8,
   "metadata": {},
   "outputs": [],
   "source": [
    "class Graph:\n",
    "    def __init__(self, km1mers):\n",
    "        self.nodes = tuple(km1mers)\n",
    "        self.matrix = np.zeros((len(self.nodes), len(self.nodes)))\n",
    "        self.eulerian = None\n",
    "    \n",
    "    def fill_matrix(self, kmers):\n",
    "        n = 0\n",
    "        for kmer in kmers:\n",
    "            print('K-mer {:5d}'.format(n), end='\\r')\n",
    "            i = self.nodes.index(kmer.prefix)\n",
    "            j = self.nodes.index(kmer.suffix)\n",
    "            self.matrix[i, j]+=1\n",
    "            n+=1\n",
    "    \n",
    "    def test_eulerian(self):\n",
    "        for i in range(len(self.nodes)):\n",
    "            if self.matrix[i, :].sum() != self.matrix[:, i].sum():\n",
    "                print(\"PROBLEM : This graph is not Eulerian.\")\n",
    "                self.eulerian = False\n",
    "                break\n",
    "        if self.eulerian != False:\n",
    "            print('SUCCESS : This graph is Eulerian !!')\n",
    "            self.eulerian = True\n",
    "        "
   ]
  },
  {
   "cell_type": "code",
   "execution_count": 222,
   "metadata": {},
   "outputs": [],
   "source": [
    "# Trouve 1 cycle\n",
    "def find_eulerian_cycle():\n",
    "    # attention, ce code ne gere pas les sommets connectés avec eux-memes\n",
    "    cycle = []\n",
    "    start, s = np.array(np.where(graph.matrix))[:,1]\n",
    "    cycle.append(start)\n",
    "    graph.matrix[start, s]-=1\n",
    "    while s!= start:\n",
    "        cycle.append(s)\n",
    "        t = np.where(graph.matrix[s, :])[0][0]     # s comme sommet, t comme temporary\n",
    "        graph.matrix[s, t]-=1\n",
    "        s = t\n",
    "    return cycle"
   ]
  },
  {
   "cell_type": "code",
   "execution_count": 223,
   "metadata": {},
   "outputs": [],
   "source": [
    "# Test fin\n",
    "def test_fin():\n",
    "    if graph.matrix.sum()==0: return True\n",
    "    else: return False"
   ]
  },
  {
   "cell_type": "code",
   "execution_count": 247,
   "metadata": {},
   "outputs": [
    {
     "name": "stdout",
     "output_type": "stream",
     "text": [
      "K-mer     0\r",
      "K-mer     1\r",
      "K-mer     2\r",
      "K-mer     3\r",
      "K-mer     4\r",
      "K-mer     5\r",
      "K-mer     6\r",
      "K-mer     7\r",
      "K-mer     8\r",
      "K-mer     9\r",
      "SUCCESS : This graph is Eulerian !!\n"
     ]
    },
    {
     "name": "stderr",
     "output_type": "stream",
     "text": [
      "/opt/sdv/anaconda/lib/python3.6/site-packages/Bio/Seq.py:155: BiopythonWarning: Biopython Seq objects now use string comparison. Older versions of Biopython used object comparison. During this transition, please use hash(id(my_seq)) or my_dict[id(my_seq)] if you want the old behaviour, or use hash(str(my_seq)) or my_dict[str(my_seq)] for the new string hashing behaviour.\n",
      "  \"the new string hashing behaviour.\", BiopythonWarning)\n"
     ]
    },
    {
     "data": {
      "text/plain": [
       "[[1, 4, 3, 5, 2], [1, 7, 4, 6, 0]]"
      ]
     },
     "execution_count": 247,
     "metadata": {},
     "output_type": "execute_result"
    }
   ],
   "source": [
    "# PROGRAMME PRINCIPAL\n",
    "# Parameters\n",
    "genome_length= 10\n",
    "read_length=7\n",
    "reads_nb=6\n",
    "kmers_length=3\n",
    "\n",
    "# Genome generation\n",
    "# genome= Genome(''.join(rd.choices([\"A\", \"T\", \"G\", \"C\"], k=genome_length)), circular=True)\n",
    "genome = Genome('ATGGCGTGCA')\n",
    "\n",
    "# Reads generation\n",
    "reads = genome.sequencing(read_length=read_length, reads_nb=reads_nb)\n",
    "\n",
    "# K-mers generation\n",
    "kmers=set()\n",
    "for read in reads:\n",
    "    kmers.update(read.generate_kmers(kmers_length=kmers_length))\n",
    "\n",
    "# (K-1)-mers generation\n",
    "km1mers=set()\n",
    "for kmer in kmers:\n",
    "    km1mers.update([kmer.prefix, kmer.suffix])\n",
    "\n",
    "# Graph generation\n",
    "graph = Graph(km1mers)\n",
    "graph.fill_matrix(kmers)\n",
    "graph.test_eulerian()\n",
    "\n",
    "# Trouve tous les cycles\n",
    "cycles = []\n",
    "while test_fin() == False:\n",
    "    cycles.append(find_eulerian_cycle())\n",
    "cycles"
   ]
  },
  {
   "cell_type": "code",
   "execution_count": 248,
   "metadata": {},
   "outputs": [
    {
     "name": "stdout",
     "output_type": "stream",
     "text": [
      "[[1, 7, 4, 6, 0]]\n"
     ]
    },
    {
     "ename": "TypeError",
     "evalue": "append() takes exactly one argument (4 given)",
     "output_type": "error",
     "traceback": [
      "\u001b[0;31m---------------------------------------------------------------------\u001b[0m",
      "\u001b[0;31mTypeError\u001b[0m                           Traceback (most recent call last)",
      "\u001b[0;32m<ipython-input-248-bd2dcf21981b>\u001b[0m in \u001b[0;36m<module>\u001b[0;34m()\u001b[0m\n\u001b[1;32m     11\u001b[0m                 \u001b[0mi\u001b[0m \u001b[0;34m=\u001b[0m \u001b[0mcycle\u001b[0m\u001b[0;34m.\u001b[0m\u001b[0mindex\u001b[0m\u001b[0;34m(\u001b[0m\u001b[0ms\u001b[0m\u001b[0;34m)\u001b[0m\u001b[0;34m\u001b[0m\u001b[0m\n\u001b[1;32m     12\u001b[0m                 \u001b[0mc\u001b[0m \u001b[0;34m=\u001b[0m \u001b[0mcycle\u001b[0m\u001b[0;34m[\u001b[0m\u001b[0mi\u001b[0m\u001b[0;34m+\u001b[0m\u001b[0;36m1\u001b[0m\u001b[0;34m:\u001b[0m\u001b[0;34m]\u001b[0m \u001b[0;34m+\u001b[0m \u001b[0mcycle\u001b[0m\u001b[0;34m[\u001b[0m\u001b[0;34m:\u001b[0m\u001b[0mi\u001b[0m\u001b[0;34m]\u001b[0m\u001b[0;34m\u001b[0m\u001b[0m\n\u001b[0;32m---> 13\u001b[0;31m                 \u001b[0mseq\u001b[0m\u001b[0;34m.\u001b[0m\u001b[0mappend\u001b[0m\u001b[0;34m(\u001b[0m\u001b[0;34m*\u001b[0m\u001b[0mc\u001b[0m\u001b[0;34m)\u001b[0m\u001b[0;34m\u001b[0m\u001b[0m\n\u001b[0m\u001b[1;32m     14\u001b[0m \u001b[0;34m\u001b[0m\u001b[0m\n\u001b[1;32m     15\u001b[0m \u001b[0;34m\u001b[0m\u001b[0m\n",
      "\u001b[0;31mTypeError\u001b[0m: append() takes exactly one argument (4 given)"
     ]
    }
   ],
   "source": [
    "# Assemble les cycles\n",
    "if len(cycles)==1:\n",
    "    seq = cycles[0]\n",
    "else:\n",
    "    cycle1 = cycles.pop(0)\n",
    "    print(cycles)\n",
    "    for s in cycle1:\n",
    "        seq.append(s)\n",
    "        for cycle in cycles:\n",
    "            if s in cycle:\n",
    "                i = cycle.index(s)\n",
    "                c = cycle[i+1:] + cycle[:i]\n",
    "                seq.append(*c)\n",
    "\n",
    "            "
   ]
  },
  {
   "cell_type": "code",
   "execution_count": 245,
   "metadata": {},
   "outputs": [
    {
     "data": {
      "text/plain": [
       "[1,\n",
       " 4,\n",
       " 3,\n",
       " 5,\n",
       " 2,\n",
       " 1,\n",
       " [4, 3, 5, 2],\n",
       " 7,\n",
       " 4,\n",
       " [3, 5, 2, 1],\n",
       " 6,\n",
       " 0,\n",
       " 1,\n",
       " [4, 3, 5, 2],\n",
       " 7,\n",
       " 4,\n",
       " [3, 5, 2, 1],\n",
       " 6,\n",
       " 0,\n",
       " 1,\n",
       " [7, 4, 6, 0],\n",
       " 4,\n",
       " [6, 0, 1, 7],\n",
       " 3,\n",
       " 5,\n",
       " 2]"
      ]
     },
     "execution_count": 245,
     "metadata": {},
     "output_type": "execute_result"
    }
   ],
   "source": [
    "seq"
   ]
  },
  {
   "cell_type": "code",
   "execution_count": null,
   "metadata": {},
   "outputs": [],
   "source": [
    "# Recréé la sequence\n",
    "genome_assembly = ''\n",
    "for s in seq:\n",
    "    genome_assembly+=graph.nodes[s][0]"
   ]
  },
  {
   "cell_type": "code",
   "execution_count": 135,
   "metadata": {},
   "outputs": [
    {
     "data": {
      "text/plain": [
       "True"
      ]
     },
     "execution_count": 135,
     "metadata": {},
     "output_type": "execute_result"
    }
   ],
   "source": [
    "# test genomme de départ == genome assemblé\n",
    "offset = genome_assembly.index(genome._data[:40])\n",
    "genome_assembly[offset:]+genome_assembly[:offset] == genome._data"
   ]
  },
  {
   "cell_type": "code",
   "execution_count": null,
   "metadata": {},
   "outputs": [],
   "source": []
  },
  {
   "cell_type": "code",
   "execution_count": null,
   "metadata": {},
   "outputs": [],
   "source": []
  },
  {
   "cell_type": "code",
   "execution_count": null,
   "metadata": {},
   "outputs": [],
   "source": []
  },
  {
   "cell_type": "code",
   "execution_count": null,
   "metadata": {},
   "outputs": [],
   "source": []
  },
  {
   "cell_type": "code",
   "execution_count": 237,
   "metadata": {},
   "outputs": [],
   "source": [
    "a = [2, 3, 4, 5]\n",
    "b = [6, 7, 8, 9]"
   ]
  },
  {
   "cell_type": "code",
   "execution_count": 238,
   "metadata": {},
   "outputs": [
    {
     "data": {
      "text/plain": [
       "[2, 3, 4, 5, 6, 7, 8, 9]"
      ]
     },
     "execution_count": 238,
     "metadata": {},
     "output_type": "execute_result"
    }
   ],
   "source": [
    "a+b"
   ]
  },
  {
   "cell_type": "code",
   "execution_count": 242,
   "metadata": {},
   "outputs": [
    {
     "data": {
      "text/plain": [
       "[2, 3, 4, 5, 6, 7, 8, 9]"
      ]
     },
     "execution_count": 242,
     "metadata": {},
     "output_type": "execute_result"
    }
   ],
   "source": [
    "a+b"
   ]
  },
  {
   "cell_type": "code",
   "execution_count": null,
   "metadata": {},
   "outputs": [],
   "source": []
  },
  {
   "cell_type": "code",
   "execution_count": null,
   "metadata": {},
   "outputs": [],
   "source": []
  },
  {
   "cell_type": "code",
   "execution_count": null,
   "metadata": {},
   "outputs": [],
   "source": []
  },
  {
   "cell_type": "code",
   "execution_count": 249,
   "metadata": {},
   "outputs": [
    {
     "data": {
      "text/plain": [
       "['__add__',\n",
       " '__class__',\n",
       " '__contains__',\n",
       " '__delattr__',\n",
       " '__delitem__',\n",
       " '__dir__',\n",
       " '__doc__',\n",
       " '__eq__',\n",
       " '__format__',\n",
       " '__ge__',\n",
       " '__getattribute__',\n",
       " '__getitem__',\n",
       " '__gt__',\n",
       " '__hash__',\n",
       " '__iadd__',\n",
       " '__imul__',\n",
       " '__init__',\n",
       " '__init_subclass__',\n",
       " '__iter__',\n",
       " '__le__',\n",
       " '__len__',\n",
       " '__lt__',\n",
       " '__mul__',\n",
       " '__ne__',\n",
       " '__new__',\n",
       " '__reduce__',\n",
       " '__reduce_ex__',\n",
       " '__repr__',\n",
       " '__reversed__',\n",
       " '__rmul__',\n",
       " '__setattr__',\n",
       " '__setitem__',\n",
       " '__sizeof__',\n",
       " '__str__',\n",
       " '__subclasshook__',\n",
       " 'append',\n",
       " 'clear',\n",
       " 'copy',\n",
       " 'count',\n",
       " 'extend',\n",
       " 'index',\n",
       " 'insert',\n",
       " 'pop',\n",
       " 'remove',\n",
       " 'reverse',\n",
       " 'sort']"
      ]
     },
     "execution_count": 249,
     "metadata": {},
     "output_type": "execute_result"
    }
   ],
   "source": [
    "dir(a)"
   ]
  },
  {
   "cell_type": "code",
   "execution_count": null,
   "metadata": {},
   "outputs": [],
   "source": []
  },
  {
   "cell_type": "code",
   "execution_count": null,
   "metadata": {},
   "outputs": [],
   "source": []
  },
  {
   "cell_type": "code",
   "execution_count": null,
   "metadata": {},
   "outputs": [],
   "source": []
  },
  {
   "cell_type": "code",
   "execution_count": null,
   "metadata": {},
   "outputs": [],
   "source": []
  },
  {
   "cell_type": "code",
   "execution_count": null,
   "metadata": {},
   "outputs": [],
   "source": [
    "seq=[tab[0][0]]\n",
    "assemble(tab, 0, 0)"
   ]
  },
  {
   "cell_type": "code",
   "execution_count": null,
   "metadata": {},
   "outputs": [],
   "source": []
  },
  {
   "cell_type": "code",
   "execution_count": null,
   "metadata": {},
   "outputs": [],
   "source": []
  },
  {
   "cell_type": "code",
   "execution_count": null,
   "metadata": {},
   "outputs": [],
   "source": [
    "assemble(tab, cycle, I, i):\n",
    "#     for j, s in enumerate(tab[I][i+1:]+tab[I][:i]):\n",
    "    for j, s in enumerate(cycle[i+1:]+cycle[:i]):\n",
    "        seq.append(s)\n",
    "        for J, c in enumerate(tab[:I]+tab[I+1:]):\n",
    "            if s in c:\n",
    "                assemble(tab[:I]+tab[I+1:], "
   ]
  },
  {
   "cell_type": "code",
   "execution_count": null,
   "metadata": {},
   "outputs": [],
   "source": []
  },
  {
   "cell_type": "code",
   "execution_count": null,
   "metadata": {},
   "outputs": [],
   "source": []
  },
  {
   "cell_type": "code",
   "execution_count": null,
   "metadata": {},
   "outputs": [],
   "source": []
  },
  {
   "cell_type": "code",
   "execution_count": null,
   "metadata": {},
   "outputs": [],
   "source": []
  },
  {
   "cell_type": "code",
   "execution_count": null,
   "metadata": {},
   "outputs": [],
   "source": []
  },
  {
   "cell_type": "code",
   "execution_count": null,
   "metadata": {},
   "outputs": [],
   "source": []
  },
  {
   "cell_type": "code",
   "execution_count": null,
   "metadata": {},
   "outputs": [],
   "source": []
  },
  {
   "cell_type": "code",
   "execution_count": null,
   "metadata": {},
   "outputs": [],
   "source": []
  },
  {
   "cell_type": "code",
   "execution_count": null,
   "metadata": {},
   "outputs": [],
   "source": []
  }
 ],
 "metadata": {
  "kernelspec": {
   "display_name": "Python 3",
   "language": "python",
   "name": "python3"
  },
  "language_info": {
   "codemirror_mode": {
    "name": "ipython",
    "version": 3
   },
   "file_extension": ".py",
   "mimetype": "text/x-python",
   "name": "python",
   "nbconvert_exporter": "python",
   "pygments_lexer": "ipython3",
   "version": "3.6.4"
  }
 },
 "nbformat": 4,
 "nbformat_minor": 2
}
