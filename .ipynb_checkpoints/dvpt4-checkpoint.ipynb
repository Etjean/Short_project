{
 "cells": [
  {
   "cell_type": "markdown",
   "metadata": {},
   "source": [
    "# DVPT 4"
   ]
  },
  {
   "cell_type": "code",
   "execution_count": 78,
   "metadata": {},
   "outputs": [],
   "source": [
    "import random as rd\n",
    "import numpy as np\n",
    "import matplotlib.pyplot as plt\n",
    "from Bio.Seq import *\n",
    "from Bio.Alphabet.IUPAC import IUPACAmbiguousDNA, IUPACUnambiguousDNA\n",
    "import reprlib\n",
    "import time\n",
    "from sys import getsizeof"
   ]
  },
  {
   "cell_type": "code",
   "execution_count": 121,
   "metadata": {},
   "outputs": [],
   "source": [
    "class Genome:\n",
    "    def __init__(self, sequence):\n",
    "        self.sequence = sequence\n",
    "        \n",
    "    def sequencing(self, read_length=100, reads_nb=5000):\n",
    "        reads=[]\n",
    "        for _ in range(reads_nb):\n",
    "            start = rd.randint(0, len(self.sequence)-1)\n",
    "            read_seq = self.sequence[start:min(start+100, len(self.sequence))] + self.sequence[0:max(start+100-len(self.sequence), 0)]\n",
    "            read = Read(read_seq)\n",
    "            reads.append(read)\n",
    "        return reads\n",
    "\n",
    "\n",
    "    \n",
    "class Read:\n",
    "    reads = []\n",
    "    all_kmers = []\n",
    "    all_km1mers = []\n",
    "    \n",
    "    def __init__(self, sequence):\n",
    "        self.sequence = sequence\n",
    "        \n",
    "    def generate_kmers(self, kmers_length):\n",
    "        \"\"\"Returns a list of the k-mers (as strings only) included in the read\"\"\"\n",
    "        kmers=[]\n",
    "        for i in range(len(self.sequence) - kmers_length):\n",
    "            kmer = self.sequence[i:i+kmers_length]\n",
    "            kmers.append(kmer)\n",
    "        return kmers\n",
    "    \n",
    "    def generate_all_kmers(cls, kmers_length):\n",
    "        all_kmers = set()\n",
    "        for read in cls.reads:\n",
    "            kmers = read.generate_kmers(kmers_length)\n",
    "            all_kmers.update(kmers)\n",
    "        return list(all_kmers)\n",
    "    generate_all_kmers = classmethod(generate_all_kmers)\n",
    "    \n",
    "    def generate_all_km1mers(cls):\n",
    "        all_km1mers = set()\n",
    "        for kmer in cls.all_kmers:\n",
    "            all_km1mers.add(kmer[:-1]) #prefix\n",
    "            all_km1mers.add(kmer[1:])  #suffix\n",
    "        return list(all_km1mers)\n",
    "    generate_all_km1mers = classmethod(generate_all_km1mers)\n",
    "    \n",
    "    \n",
    "    \n",
    "\n",
    "\n",
    "\n",
    "class Graph:\n",
    "    def __init__(self):\n",
    "        self.edges = {} #Key : edge object, value : bool(True \"is in graph\", False \"has been visited already\")\n",
    "        self.vertices = []\n",
    "        self.eulerian = False\n",
    "        self.cycles = []\n",
    "        \n",
    "    def test_eulerian(self):\n",
    "        for vextex in self.vertices:\n",
    "            if len(vertex.in_edges) != len(vertex.out_edges):\n",
    "                self.eulerian = False\n",
    "                return None\n",
    "        self.eulerian = True\n",
    "        \n",
    "    def choose_edge(self, list_edges):\n",
    "        for e in list_edges:\n",
    "            if self.edges[e]:\n",
    "                return e\n",
    "    \n",
    "    def find_cycle(self, edge):\n",
    "        cycle = [edge]\n",
    "        self.edges[edge] = False\n",
    "        le = edge.get_next_edges()\n",
    "        e = self.choose_edge(le)\n",
    "        while e != edge:\n",
    "            cycle.append(e)\n",
    "            self.edges[e] = False\n",
    "            le = e.get_next_edges()\n",
    "            e = self.choose_edge(le)\n",
    "        return cycle\n",
    "    \n",
    "    def find_all_cycles(self):\n",
    "        while sum(self.edges.values()) > 0:\n",
    "            i = iter(self.edges.items())\n",
    "            edge, is_still_here = next(i)\n",
    "            while not is_still_here:\n",
    "                edge, is_still_here = next(i)\n",
    "            cycle = self.find_cycle(edge)\n",
    "            self.cycles.append(cycle)\n",
    "    \n",
    "    \n",
    "    \n",
    "    \n",
    "class Edge:\n",
    "    edges = []\n",
    "    \n",
    "    def __init__(self, sequence):\n",
    "        self.sequence = sequence\n",
    "        self.from_vertex = None\n",
    "        self.to_vertex = None\n",
    "    \n",
    "    def get_next_edges():\n",
    "        return self.to_vertex.out_edges\n",
    "            \n",
    "        \n",
    "class Vertex:\n",
    "    vertices = []\n",
    "    \n",
    "    def __init__(self, sequence):\n",
    "        self.sequence = sequence\n",
    "        self.in_edges = []\n",
    "        self.out_edges = []\n",
    "    \n",
    "    def get_vertex(cls, sequence):\n",
    "        for vertex in cls.vertices:\n",
    "            if vertex.sequence == sequence:\n",
    "                return vertex\n",
    "    get_vertex = classmethod(get_vertex)\n",
    "    "
   ]
  },
  {
   "cell_type": "code",
   "execution_count": 123,
   "metadata": {},
   "outputs": [
    {
     "name": "stdout",
     "output_type": "stream",
     "text": [
      "ATGGCGTGCA\n",
      "[<__main__.Read object at 0x7fe271c7d470>, <__main__.Read object at 0x7fe271c107b8>, <__main__.Read object at 0x7fe271c107f0>, <__main__.Read object at 0x7fe271c10828>, <__main__.Read object at 0x7fe271c10860>, <__main__.Read object at 0x7fe271c10898>, <__main__.Read object at 0x7fe271c108d0>, <__main__.Read object at 0x7fe271c10908>, <__main__.Read object at 0x7fe271c10940>, <__main__.Read object at 0x7fe271c10978>, <__main__.Read object at 0x7fe271c109b0>, <__main__.Read object at 0x7fe271c109e8>, <__main__.Read object at 0x7fe271c10a20>, <__main__.Read object at 0x7fe271c10a58>, <__main__.Read object at 0x7fe271c10a90>, <__main__.Read object at 0x7fe271c10ac8>, <__main__.Read object at 0x7fe271c10b00>, <__main__.Read object at 0x7fe271c10b38>, <__main__.Read object at 0x7fe271c10b70>, <__main__.Read object at 0x7fe271c10ba8>]\n",
      "['AAT', 'GCA', 'GTG', 'CAA', 'GGC', 'GCG', 'CGT', 'TGC', 'ATG', 'TGG']\n",
      "['CG', 'AT', 'TG', 'GC', 'GT', 'CA', 'GG', 'AA']\n",
      "[<__main__.Edge object at 0x7fe271c7d5c0>, <__main__.Edge object at 0x7fe271c7dcf8>, <__main__.Edge object at 0x7fe271c7dda0>, <__main__.Edge object at 0x7fe271c7de80>, <__main__.Edge object at 0x7fe271c7deb8>, <__main__.Edge object at 0x7fe271c7df60>, <__main__.Edge object at 0x7fe271c7dc88>, <__main__.Edge object at 0x7fe271c81198>, <__main__.Edge object at 0x7fe271c81128>, <__main__.Edge object at 0x7fe271c81160>, <__main__.Edge object at 0x7fe271c10780>, <__main__.Edge object at 0x7fe271c10710>, <__main__.Edge object at 0x7fe271c10be0>, <__main__.Edge object at 0x7fe271c10c18>, <__main__.Edge object at 0x7fe271c10c50>, <__main__.Edge object at 0x7fe271c10c88>, <__main__.Edge object at 0x7fe271c10cc0>, <__main__.Edge object at 0x7fe271c10cf8>, <__main__.Edge object at 0x7fe271c10f98>, <__main__.Edge object at 0x7fe271c10d68>]\n",
      "[<__main__.Vertex object at 0x7fe271c81208>, <__main__.Vertex object at 0x7fe271c81390>, <__main__.Vertex object at 0x7fe271c81470>, <__main__.Vertex object at 0x7fe271c810f0>, <__main__.Vertex object at 0x7fe271c81550>, <__main__.Vertex object at 0x7fe271c81668>, <__main__.Vertex object at 0x7fe271c812e8>, <__main__.Vertex object at 0x7fe271c81320>, <__main__.Vertex object at 0x7fe271c10fd0>, <__main__.Vertex object at 0x7fe271c10d30>, <__main__.Vertex object at 0x7fe271c10da0>, <__main__.Vertex object at 0x7fe271c10ef0>, <__main__.Vertex object at 0x7fe271c10dd8>, <__main__.Vertex object at 0x7fe271c10e10>, <__main__.Vertex object at 0x7fe271c10f60>, <__main__.Vertex object at 0x7fe271c10eb8>]\n"
     ]
    }
   ],
   "source": [
    "# PROGRAMME PRINCIPAL\n",
    "# Parameters\n",
    "genome_length= 1000\n",
    "read_length=7\n",
    "reads_nb=20\n",
    "kmers_length=3\n",
    "\n",
    "# Genome generation\n",
    "genome = Genome('ATGGCGTGCA')\n",
    "print(genome.sequence)\n",
    "\n",
    "# Reads generation\n",
    "Read.reads = genome.sequencing(read_length=read_length, reads_nb=reads_nb)\n",
    "print(Read.reads)\n",
    "\n",
    "# K-mers generation\n",
    "Read.all_kmers = Read.generate_all_kmers(kmers_length=kmers_length)\n",
    "print(Read.all_kmers)\n",
    "\n",
    "# (K-1)-mers generation\n",
    "Read.all_km1mers = Read.generate_all_km1mers()\n",
    "print(Read.all_km1mers)\n",
    "\n",
    "# Edges generation\n",
    "for kmer in Read.all_kmers:\n",
    "    Edge.edges.append(Edge(kmer))\n",
    "print(Edge.edges)\n",
    "\n",
    "# Vertex generation\n",
    "for km1mer in Read.all_km1mers:\n",
    "    Vertex.vertices.append(Vertex(km1mer))\n",
    "print(Vertex.vertices)\n",
    "\n",
    "# Edge - Vertex connecting\n",
    "for edge in Edge.edges:\n",
    "    edge.from_vertex = Vertex.get_vertex(edge.sequence[:-1])  # prefix\n",
    "    edge.from_vertex.out_edges.append(edge)\n",
    "    edge.to_vertex = Vertex.get_vertex(edge.sequence[1:])     # suffix\n",
    "    edge.to_vertex.in_edges.append(edge)\n",
    "\n",
    "# Graph generation\n",
    "\n",
    "\n",
    "\n",
    "# Trouve tous les cycles\n",
    "\n",
    "\n",
    "# Assemble les cycles\n",
    "\n",
    "\n",
    "# Recréé la sequence\n",
    "\n",
    "\n",
    "# Test genome de départ == genome assemblé\n",
    "\n",
    "\n"
   ]
  },
  {
   "cell_type": "code",
   "execution_count": null,
   "metadata": {},
   "outputs": [],
   "source": []
  },
  {
   "cell_type": "code",
   "execution_count": null,
   "metadata": {},
   "outputs": [],
   "source": []
  },
  {
   "cell_type": "code",
   "execution_count": null,
   "metadata": {},
   "outputs": [],
   "source": []
  },
  {
   "cell_type": "code",
   "execution_count": null,
   "metadata": {},
   "outputs": [],
   "source": []
  },
  {
   "cell_type": "code",
   "execution_count": null,
   "metadata": {},
   "outputs": [],
   "source": []
  },
  {
   "cell_type": "code",
   "execution_count": null,
   "metadata": {},
   "outputs": [],
   "source": []
  },
  {
   "cell_type": "code",
   "execution_count": null,
   "metadata": {},
   "outputs": [],
   "source": []
  },
  {
   "cell_type": "code",
   "execution_count": null,
   "metadata": {},
   "outputs": [],
   "source": []
  },
  {
   "cell_type": "code",
   "execution_count": null,
   "metadata": {},
   "outputs": [],
   "source": []
  },
  {
   "cell_type": "code",
   "execution_count": null,
   "metadata": {},
   "outputs": [],
   "source": []
  },
  {
   "cell_type": "code",
   "execution_count": null,
   "metadata": {},
   "outputs": [],
   "source": []
  },
  {
   "cell_type": "markdown",
   "metadata": {},
   "source": [
    "---\n",
    "## Tests"
   ]
  },
  {
   "cell_type": "code",
   "execution_count": 58,
   "metadata": {},
   "outputs": [],
   "source": [
    "a = {2:True, 4:True, 5:False}"
   ]
  },
  {
   "cell_type": "code",
   "execution_count": null,
   "metadata": {},
   "outputs": [],
   "source": []
  },
  {
   "cell_type": "code",
   "execution_count": null,
   "metadata": {},
   "outputs": [],
   "source": []
  },
  {
   "cell_type": "code",
   "execution_count": null,
   "metadata": {},
   "outputs": [],
   "source": []
  },
  {
   "cell_type": "code",
   "execution_count": null,
   "metadata": {},
   "outputs": [],
   "source": []
  },
  {
   "cell_type": "code",
   "execution_count": null,
   "metadata": {},
   "outputs": [],
   "source": []
  },
  {
   "cell_type": "code",
   "execution_count": null,
   "metadata": {},
   "outputs": [],
   "source": []
  },
  {
   "cell_type": "code",
   "execution_count": null,
   "metadata": {},
   "outputs": [],
   "source": []
  },
  {
   "cell_type": "code",
   "execution_count": null,
   "metadata": {},
   "outputs": [],
   "source": []
  },
  {
   "cell_type": "code",
   "execution_count": null,
   "metadata": {},
   "outputs": [],
   "source": []
  },
  {
   "cell_type": "code",
   "execution_count": null,
   "metadata": {},
   "outputs": [],
   "source": []
  },
  {
   "cell_type": "code",
   "execution_count": null,
   "metadata": {},
   "outputs": [],
   "source": []
  },
  {
   "cell_type": "code",
   "execution_count": null,
   "metadata": {},
   "outputs": [],
   "source": []
  },
  {
   "cell_type": "code",
   "execution_count": null,
   "metadata": {},
   "outputs": [],
   "source": []
  },
  {
   "cell_type": "code",
   "execution_count": null,
   "metadata": {},
   "outputs": [],
   "source": []
  },
  {
   "cell_type": "code",
   "execution_count": null,
   "metadata": {},
   "outputs": [],
   "source": []
  },
  {
   "cell_type": "code",
   "execution_count": null,
   "metadata": {},
   "outputs": [],
   "source": []
  },
  {
   "cell_type": "code",
   "execution_count": null,
   "metadata": {},
   "outputs": [],
   "source": []
  },
  {
   "cell_type": "code",
   "execution_count": null,
   "metadata": {},
   "outputs": [],
   "source": []
  },
  {
   "cell_type": "code",
   "execution_count": null,
   "metadata": {},
   "outputs": [],
   "source": []
  },
  {
   "cell_type": "code",
   "execution_count": null,
   "metadata": {},
   "outputs": [],
   "source": []
  },
  {
   "cell_type": "code",
   "execution_count": null,
   "metadata": {},
   "outputs": [],
   "source": []
  },
  {
   "cell_type": "code",
   "execution_count": null,
   "metadata": {},
   "outputs": [],
   "source": []
  },
  {
   "cell_type": "code",
   "execution_count": null,
   "metadata": {},
   "outputs": [],
   "source": []
  },
  {
   "cell_type": "code",
   "execution_count": null,
   "metadata": {},
   "outputs": [],
   "source": []
  }
 ],
 "metadata": {
  "kernelspec": {
   "display_name": "Python 3",
   "language": "python",
   "name": "python3"
  },
  "language_info": {
   "codemirror_mode": {
    "name": "ipython",
    "version": 3
   },
   "file_extension": ".py",
   "mimetype": "text/x-python",
   "name": "python",
   "nbconvert_exporter": "python",
   "pygments_lexer": "ipython3",
   "version": "3.6.4"
  }
 },
 "nbformat": 4,
 "nbformat_minor": 2
}
