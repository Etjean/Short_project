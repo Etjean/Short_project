{
 "cells": [
  {
   "cell_type": "markdown",
   "metadata": {},
   "source": [
    "# Notebook for development of the script - 2"
   ]
  },
  {
   "cell_type": "code",
   "execution_count": 1,
   "metadata": {},
   "outputs": [],
   "source": [
    "import random as rd\n",
    "import numpy as np\n",
    "import matplotlib.pyplot as plt\n",
    "from Bio.Seq import *\n",
    "from Bio.Alphabet.IUPAC import IUPACAmbiguousDNA, IUPACUnambiguousDNA\n",
    "import reprlib\n",
    "import time"
   ]
  },
  {
   "cell_type": "code",
   "execution_count": 10,
   "metadata": {},
   "outputs": [],
   "source": [
    "class Genome(Seq):\n",
    "    \"\"\"Classe Genome\"\"\"\n",
    "    def __init__(self, seq, circular=True):\n",
    "        Seq.__init__(self, seq, alphabet=IUPACUnambiguousDNA())\n",
    "        self.circular=circular\n",
    "        \n",
    "#     def __str__(self):\n",
    "#         \"\"\"To show the attributes and values of the instance\"\"\"\n",
    "#         out=''\n",
    "#         for key, value in self.__dict__.items():\n",
    "#             out+='{:20s}  {}\\n'.format(key, reprlib.repr(value))\n",
    "#         return out\n",
    "\n",
    "    def sequencing(self, read_length=100, reads_nb=5000):\n",
    "        reads=[]\n",
    "        for _ in range(reads_nb):\n",
    "            start = rd.randint(0, len(self)-1)\n",
    "            read_seq = self._data[start:min(start+100, len(self))] + self._data[0:max(start+100-len(self), 0)]\n",
    "            read = Read(read_seq)\n",
    "            reads.append(read)\n",
    "        return reads\n"
   ]
  },
  {
   "cell_type": "code",
   "execution_count": 11,
   "metadata": {},
   "outputs": [],
   "source": [
    "class Read(Seq):\n",
    "    \"\"\"Classe Read\"\"\"\n",
    "    def __init__(self, seq, circular=True):\n",
    "        Seq.__init__(self, seq, alphabet=IUPACUnambiguousDNA())\n",
    "    \n",
    "#     def __str__(self):\n",
    "#         \"\"\"To show the attributes and values of the instance\"\"\"\n",
    "#         out=''\n",
    "#         for key, value in self.__dict__.items():\n",
    "#             out+='{:20s}  {}\\n'.format(key, reprlib.repr(value))\n",
    "#         return out\n",
    "    \n",
    "    def generate_kmers(self, kmers_length=30):\n",
    "        \"\"\"Returns a list of the k-mers included in the read\"\"\"\n",
    "        kmers=[]\n",
    "        for i in range(len(self) - kmers_length):\n",
    "            kmer_seq = self._data[i:i+kmers_length]\n",
    "            kmer = Kmer(kmer_seq)\n",
    "            kmers.append(kmer)\n",
    "        return kmers\n"
   ]
  },
  {
   "cell_type": "code",
   "execution_count": 12,
   "metadata": {},
   "outputs": [],
   "source": [
    "class Kmer(Seq):\n",
    "    \"\"\"Classe Kmer\"\"\"\n",
    "    def __init__(self, seq):\n",
    "        Seq.__init__(self, seq, alphabet=IUPACUnambiguousDNA())\n",
    "        self.prefix = seq[:-1]\n",
    "        self.suffix = seq[1:]\n",
    "    \n",
    "#     def __str__(self):\n",
    "#         \"\"\"To show the attributes and values of the instance\"\"\"\n",
    "#         out=''\n",
    "#         for key, value in self.__dict__.items():\n",
    "#             out+='{:20s}  {}\\n'.format(key, reprlib.repr(value))\n",
    "#         return out\n",
    "    "
   ]
  },
  {
   "cell_type": "code",
   "execution_count": 13,
   "metadata": {},
   "outputs": [],
   "source": [
    "class Graph:\n",
    "    def __init__(self, km1mers):\n",
    "        self.nodes = tuple(km1mers)\n",
    "        self.matrix = np.zeros((len(self.nodes), len(self.nodes)))\n",
    "        self.eulerian = None\n",
    "    \n",
    "    def fill_matrix(self, kmers):\n",
    "        n = 0\n",
    "        for kmer in kmers:\n",
    "            print('K-mer {:5d}'.format(n), end='\\r')\n",
    "            i = self.nodes.index(kmer.prefix)\n",
    "            j = self.nodes.index(kmer.suffix)\n",
    "            self.matrix[i, j]+=1\n",
    "            n+=1\n",
    "    \n",
    "    def test_eulerian(self):\n",
    "        for i in range(len(self.nodes)):\n",
    "            if self.matrix[i, :].sum() != self.matrix[:, i].sum():\n",
    "                print(\"PROBLEM : This graph is not Eulerian.\")\n",
    "                self.eulerian = False\n",
    "                break\n",
    "        if self.eulerian != False:\n",
    "            print('SUCCESS : This graph is Eulerian !!')\n",
    "            self.eulerian = True\n",
    "        "
   ]
  },
  {
   "cell_type": "code",
   "execution_count": 17,
   "metadata": {},
   "outputs": [],
   "source": [
    "# Trouve 1 cycle\n",
    "def find_eulerian_cycle():\n",
    "    # attention, ce code ne gere pas les sommets connectés avec eux-memes\n",
    "    cycle = []\n",
    "    start, s = np.array(np.where(graph.matrix))[:,0]\n",
    "    cycle.append(start)\n",
    "    graph.matrix[start, s]-=1\n",
    "    while s!= start:\n",
    "        cycle.append(s)\n",
    "        t = np.where(graph.matrix[s, :])[0][0]     # s comme sommet, t comme temporary\n",
    "        graph.matrix[s, t]-=1\n",
    "        s = t\n",
    "    return cycle"
   ]
  },
  {
   "cell_type": "code",
   "execution_count": 18,
   "metadata": {},
   "outputs": [],
   "source": [
    "# Test fin\n",
    "def test_fin():\n",
    "    if graph.matrix.sum()==0: return True\n",
    "    else: return False"
   ]
  },
  {
   "cell_type": "code",
   "execution_count": 41,
   "metadata": {},
   "outputs": [
    {
     "name": "stdout",
     "output_type": "stream",
     "text": [
      "K-mer     0\r",
      "K-mer     1\r",
      "K-mer     2\r",
      "K-mer     3\r",
      "K-mer     4\r",
      "K-mer     5\r",
      "K-mer     6\r",
      "K-mer     7\r",
      "K-mer     8\r",
      "K-mer     9\r",
      "SUCCESS : This graph is Eulerian !!\n"
     ]
    },
    {
     "name": "stderr",
     "output_type": "stream",
     "text": [
      "/home/etienne/miniconda3/lib/python3.6/site-packages/Bio/Seq.py:155: BiopythonWarning: Biopython Seq objects now use string comparison. Older versions of Biopython used object comparison. During this transition, please use hash(id(my_seq)) or my_dict[id(my_seq)] if you want the old behaviour, or use hash(str(my_seq)) or my_dict[str(my_seq)] for the new string hashing behaviour.\n",
      "  \"the new string hashing behaviour.\", BiopythonWarning)\n"
     ]
    },
    {
     "data": {
      "text/plain": [
       "[[0, 4, 2, 3, 6, 5], [1, 5, 4, 7]]"
      ]
     },
     "execution_count": 41,
     "metadata": {},
     "output_type": "execute_result"
    }
   ],
   "source": [
    "# PROGRAMME PRINCIPAL\n",
    "# Parameters\n",
    "genome_length= 10\n",
    "read_length=7\n",
    "reads_nb=6\n",
    "kmers_length=3\n",
    "\n",
    "# Genome generation\n",
    "# genome= Genome(''.join(rd.choices([\"A\", \"T\", \"G\", \"C\"], k=genome_length)), circular=True)\n",
    "genome = Genome('ATGGCGTGCA')\n",
    "\n",
    "# Reads generation\n",
    "reads = genome.sequencing(read_length=read_length, reads_nb=reads_nb)\n",
    "\n",
    "# K-mers generation\n",
    "kmers=set()\n",
    "for read in reads:\n",
    "    kmers.update(read.generate_kmers(kmers_length=kmers_length))\n",
    "\n",
    "# (K-1)-mers generation\n",
    "km1mers=set()\n",
    "for kmer in kmers:\n",
    "    km1mers.update([kmer.prefix, kmer.suffix])\n",
    "\n",
    "# Graph generation\n",
    "graph = Graph(km1mers)\n",
    "graph.fill_matrix(kmers)\n",
    "graph.test_eulerian()\n",
    "\n",
    "# Trouve tous les cycles\n",
    "cycles = []\n",
    "while test_fin() == False:\n",
    "    cycles.append(find_eulerian_cycle())\n",
    "cycles"
   ]
  },
  {
   "cell_type": "code",
   "execution_count": 59,
   "metadata": {},
   "outputs": [],
   "source": [
    "def assemble(cycle, tab):      # cycle a parcourir pour avancer \n",
    "                           # & tableau des cycles restant a parcourir\n",
    "    for s in cycle:        # prenons un sommet du cycle\n",
    "        seq.append(s)        # ajoutons le a la sequence\n",
    "        for c in tab:          # puis testons s'il est également connecté à un des cycles restant\n",
    "            if s in c:\n",
    "                nextcycle = c[c.index(s)+1:] + c[:c.index(s)]     # Si oui, recadrons le prochain cycle pour que le parcours de la liste commence bien au début\n",
    "                nexttab = tab[tab.index(c)+1:] + tab[:tab.index(c)]   # enlevons également ce cycle du tableau pour le prochain appel de la fonction\n",
    "                assemble(nextcycle, nexttab)\n",
    "                tab.remove(c)\n",
    "                break\n",
    "                "
   ]
  },
  {
   "cell_type": "code",
   "execution_count": 60,
   "metadata": {},
   "outputs": [],
   "source": [
    "# Assemble les cycles\n",
    "seq=[]\n",
    "assemble(cycles[0], cycles[1:])\n"
   ]
  },
  {
   "cell_type": "code",
   "execution_count": 61,
   "metadata": {},
   "outputs": [
    {
     "data": {
      "text/plain": [
       "[0, 4, 7, 1, 5, 2, 3, 6, 5]"
      ]
     },
     "execution_count": 61,
     "metadata": {},
     "output_type": "execute_result"
    }
   ],
   "source": [
    "seq"
   ]
  },
  {
   "cell_type": "code",
   "execution_count": 62,
   "metadata": {},
   "outputs": [
    {
     "data": {
      "text/plain": [
       "'GGCGTCAAT'"
      ]
     },
     "execution_count": 62,
     "metadata": {},
     "output_type": "execute_result"
    }
   ],
   "source": [
    "# Recréé la sequence\n",
    "genome_assembly = ''\n",
    "for s in seq:\n",
    "    genome_assembly+=graph.nodes[s][0]\n",
    "genome_assembly"
   ]
  },
  {
   "cell_type": "code",
   "execution_count": 65,
   "metadata": {},
   "outputs": [
    {
     "ename": "ValueError",
     "evalue": "substring not found",
     "output_type": "error",
     "traceback": [
      "\u001b[0;31m--------------------------------------------------------------------\u001b[0m",
      "\u001b[0;31mValueError\u001b[0m                         Traceback (most recent call last)",
      "\u001b[0;32m<ipython-input-65-813f9afd11b0>\u001b[0m in \u001b[0;36m<module>\u001b[0;34m()\u001b[0m\n\u001b[1;32m      1\u001b[0m \u001b[0;31m# test genome de départ == genome assemblé\u001b[0m\u001b[0;34m\u001b[0m\u001b[0;34m\u001b[0m\u001b[0m\n\u001b[0;32m----> 2\u001b[0;31m \u001b[0moffset\u001b[0m \u001b[0;34m=\u001b[0m \u001b[0;34m(\u001b[0m\u001b[0mgenome_assembly\u001b[0m\u001b[0;34m*\u001b[0m\u001b[0;36m2\u001b[0m\u001b[0;34m)\u001b[0m\u001b[0;34m.\u001b[0m\u001b[0mindex\u001b[0m\u001b[0;34m(\u001b[0m\u001b[0mgenome\u001b[0m\u001b[0;34m.\u001b[0m\u001b[0m_data\u001b[0m\u001b[0;34m)\u001b[0m\u001b[0;34m\u001b[0m\u001b[0m\n\u001b[0m\u001b[1;32m      3\u001b[0m \u001b[0mgenome_assembly\u001b[0m\u001b[0;34m[\u001b[0m\u001b[0moffset\u001b[0m\u001b[0;34m:\u001b[0m\u001b[0;34m]\u001b[0m\u001b[0;34m+\u001b[0m\u001b[0mgenome_assembly\u001b[0m\u001b[0;34m[\u001b[0m\u001b[0;34m:\u001b[0m\u001b[0moffset\u001b[0m\u001b[0;34m]\u001b[0m \u001b[0;34m==\u001b[0m \u001b[0mgenome\u001b[0m\u001b[0;34m.\u001b[0m\u001b[0m_data\u001b[0m\u001b[0;34m\u001b[0m\u001b[0m\n",
      "\u001b[0;31mValueError\u001b[0m: substring not found"
     ]
    }
   ],
   "source": [
    "# test genome de départ == genome assemblé\n",
    "offset = (genome_assembly*2).index(genome._data)\n",
    "genome_assembly[offset:]+genome_assembly[:offset] == genome._data"
   ]
  },
  {
   "cell_type": "code",
   "execution_count": null,
   "metadata": {},
   "outputs": [],
   "source": []
  },
  {
   "cell_type": "code",
   "execution_count": null,
   "metadata": {},
   "outputs": [],
   "source": []
  },
  {
   "cell_type": "code",
   "execution_count": null,
   "metadata": {},
   "outputs": [],
   "source": []
  },
  {
   "cell_type": "code",
   "execution_count": null,
   "metadata": {},
   "outputs": [],
   "source": []
  },
  {
   "cell_type": "code",
   "execution_count": null,
   "metadata": {},
   "outputs": [],
   "source": []
  },
  {
   "cell_type": "code",
   "execution_count": null,
   "metadata": {},
   "outputs": [],
   "source": []
  },
  {
   "cell_type": "code",
   "execution_count": null,
   "metadata": {},
   "outputs": [],
   "source": []
  },
  {
   "cell_type": "code",
   "execution_count": null,
   "metadata": {},
   "outputs": [],
   "source": []
  },
  {
   "cell_type": "code",
   "execution_count": null,
   "metadata": {},
   "outputs": [],
   "source": []
  },
  {
   "cell_type": "code",
   "execution_count": null,
   "metadata": {},
   "outputs": [],
   "source": []
  },
  {
   "cell_type": "code",
   "execution_count": null,
   "metadata": {},
   "outputs": [],
   "source": []
  },
  {
   "cell_type": "code",
   "execution_count": null,
   "metadata": {},
   "outputs": [],
   "source": []
  },
  {
   "cell_type": "code",
   "execution_count": null,
   "metadata": {},
   "outputs": [],
   "source": []
  },
  {
   "cell_type": "code",
   "execution_count": null,
   "metadata": {},
   "outputs": [],
   "source": []
  },
  {
   "cell_type": "markdown",
   "metadata": {},
   "source": [
    "---\n",
    "## Tests"
   ]
  },
  {
   "cell_type": "code",
   "execution_count": null,
   "metadata": {},
   "outputs": [],
   "source": []
  },
  {
   "cell_type": "code",
   "execution_count": null,
   "metadata": {},
   "outputs": [],
   "source": []
  },
  {
   "cell_type": "code",
   "execution_count": null,
   "metadata": {},
   "outputs": [],
   "source": []
  },
  {
   "cell_type": "code",
   "execution_count": null,
   "metadata": {},
   "outputs": [],
   "source": []
  },
  {
   "cell_type": "code",
   "execution_count": null,
   "metadata": {},
   "outputs": [],
   "source": [
    "def assemble(cycle, tab):      # cycle a parcourir pour avancer \n",
    "                           # & tableau des cycles restant a parcourir\n",
    "    for s in cycle:        # prenons un sommet du cycle\n",
    "        seq.append(s)        # ajoutons le a la sequence\n",
    "        for c in tab:          # puis testons s'il est également connecté à un des cycles restant\n",
    "            if s in c:\n",
    "                nextcycle = c[c.index(s)+1:] + c[:c.index(s)]     # Si oui, recadrons le prochain cycle pour que le parcours de la liste commence bien au début\n",
    "                nexttab = tab[tab.index(c)+1:] + tab[:tab.index(c)]   # enlevons également ce cycle du tableau pour le prochain appel de la fonction\n",
    "                \n",
    "                "
   ]
  },
  {
   "cell_type": "code",
   "execution_count": null,
   "metadata": {},
   "outputs": [],
   "source": [
    "assemble(cycle, tab):      # cycle a parcourir pour avancer \n",
    "                           # & tableau des cycles restant a parcourir\n",
    "    for s in cycle:        # prenons un sommet du cycle\n",
    "        seq.append(s)        # ajoutons le a la sequence\n",
    "        for j, c in enumerate(tab):          # puis testons s'il est également connecté à un des cycles restant\n",
    "            for i, s1 in enumerate(c):\n",
    "                if s == s1:\n",
    "                    nextcycle = c[i+1:] + c[:i]     # Si oui, recadrons le prochain cycle pour que le parcours de la liste commence bien au début\n",
    "                    nexttab = tab[j+1:] + tab[:j]   # enlevons également ce cycle du tableau pour le prochain appel de la fonction\n",
    "            \n",
    "            \n",
    "            \n",
    "            \n",
    "            if s in c:\n",
    "                nextcycle = c[c.index(s)+1:] + c[:c.index(s)]     # Si oui, recadrons le prochain cycle pour que le parcours de la liste commence bien au début\n",
    "                nexttab = tab[j+1:] + tab[:j]   # enlevons également ce cycle du tableau pour le prochain appel de la fonction\n",
    "                \n",
    "                "
   ]
  },
  {
   "cell_type": "code",
   "execution_count": null,
   "metadata": {},
   "outputs": [],
   "source": []
  },
  {
   "cell_type": "code",
   "execution_count": null,
   "metadata": {},
   "outputs": [],
   "source": []
  },
  {
   "cell_type": "code",
   "execution_count": null,
   "metadata": {},
   "outputs": [],
   "source": []
  },
  {
   "cell_type": "code",
   "execution_count": null,
   "metadata": {},
   "outputs": [],
   "source": []
  },
  {
   "cell_type": "code",
   "execution_count": null,
   "metadata": {},
   "outputs": [],
   "source": []
  },
  {
   "cell_type": "code",
   "execution_count": null,
   "metadata": {},
   "outputs": [],
   "source": []
  },
  {
   "cell_type": "code",
   "execution_count": null,
   "metadata": {},
   "outputs": [],
   "source": []
  },
  {
   "cell_type": "code",
   "execution_count": null,
   "metadata": {},
   "outputs": [],
   "source": []
  }
 ],
 "metadata": {
  "kernelspec": {
   "display_name": "Python 3",
   "language": "python",
   "name": "python3"
  },
  "language_info": {
   "codemirror_mode": {
    "name": "ipython",
    "version": 3
   },
   "file_extension": ".py",
   "mimetype": "text/x-python",
   "name": "python",
   "nbconvert_exporter": "python",
   "pygments_lexer": "ipython3",
   "version": "3.6.4"
  }
 },
 "nbformat": 4,
 "nbformat_minor": 2
}
