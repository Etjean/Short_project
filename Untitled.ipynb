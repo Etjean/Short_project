{
 "cells": [
  {
   "cell_type": "markdown",
   "metadata": {},
   "source": [
    "# Notebook for dvpt 3"
   ]
  },
  {
   "cell_type": "code",
   "execution_count": null,
   "metadata": {},
   "outputs": [],
   "source": [
    "import random as rd\n",
    "import numpy as np\n",
    "import matplotlib.pyplot as plt\n",
    "from Bio.Seq import *\n",
    "from Bio.Alphabet.IUPAC import IUPACAmbiguousDNA, IUPACUnambiguousDNA\n",
    "import reprlib"
   ]
  },
  {
   "cell_type": "code",
   "execution_count": null,
   "metadata": {},
   "outputs": [],
   "source": [
    "class Genome(Seq):\n",
    "    \"\"\"Classe Genome\"\"\"\n",
    "    def __init__(self, seq, circular=True):\n",
    "        Seq.__init__(self, seq, alphabet=IUPACUnambiguousDNA())\n",
    "        self.circular=circular\n",
    "        \n",
    "#     def __str__(self):\n",
    "#         \"\"\"To show the attributes and values of the instance\"\"\"\n",
    "#         out=''\n",
    "#         for key, value in self.__dict__.items():\n",
    "#             out+='{:20s}  {}\\n'.format(key, reprlib.repr(value))\n",
    "#         return out\n",
    "\n",
    "    def sequencing(self, read_length=100, reads_nb=5000):\n",
    "        reads=[]\n",
    "        for _ in range(reads_nb):\n",
    "            start = rd.randint(0, len(self)-1)\n",
    "            read_seq = self._data[start:min(start+100, len(self))] + self._data[0:max(start+100-len(self), 0)]\n",
    "            read = Read(read_seq)\n",
    "            reads.append(read)\n",
    "        return reads\n"
   ]
  },
  {
   "cell_type": "code",
   "execution_count": null,
   "metadata": {},
   "outputs": [],
   "source": [
    "class Read(Seq):\n",
    "    \"\"\"Classe Read\"\"\"\n",
    "    def __init__(self, seq, circular=True):\n",
    "        Seq.__init__(self, seq, alphabet=IUPACUnambiguousDNA())\n",
    "    \n",
    "#     def __str__(self):\n",
    "#         \"\"\"To show the attributes and values of the instance\"\"\"\n",
    "#         out=''\n",
    "#         for key, value in self.__dict__.items():\n",
    "#             out+='{:20s}  {}\\n'.format(key, reprlib.repr(value))\n",
    "#         return out\n",
    "    \n",
    "    def generate_kmers(self, kmers_length=30):\n",
    "        \"\"\"Returns a list of the k-mers included in the read\"\"\"\n",
    "        kmers=[]\n",
    "        for i in range(len(self) - kmers_length):\n",
    "            kmer_seq = self._data[i:i+kmers_length]\n",
    "            kmer = Kmer(kmer_seq)\n",
    "            kmers.append(kmer)\n",
    "        return kmers\n"
   ]
  },
  {
   "cell_type": "code",
   "execution_count": null,
   "metadata": {},
   "outputs": [],
   "source": [
    "class Kmer(Seq):\n",
    "    \"\"\"Classe Kmer\"\"\"\n",
    "    def __init__(self, seq):\n",
    "        Seq.__init__(self, seq, alphabet=IUPACUnambiguousDNA())\n",
    "        self.prefix = seq[:-1]\n",
    "        self.suffix = seq[1:]\n",
    "    \n",
    "#     def __str__(self):\n",
    "#         \"\"\"To show the attributes and values of the instance\"\"\"\n",
    "#         out=''\n",
    "#         for key, value in self.__dict__.items():\n",
    "#             out+='{:20s}  {}\\n'.format(key, reprlib.repr(value))\n",
    "#         return out\n",
    "    "
   ]
  },
  {
   "cell_type": "code",
   "execution_count": null,
   "metadata": {},
   "outputs": [],
   "source": [
    "class Graph:\n",
    "    def __init__(self, km1mers):\n",
    "        self.nodes = tuple(km1mers)\n",
    "        self.matrix = np.zeros((len(self.nodes), len(self.nodes)))\n",
    "        self.eulerian = None\n",
    "    \n",
    "    def fill_matrix(self, kmers):\n",
    "        n = 0\n",
    "        for kmer in kmers:\n",
    "            print('K-mer {:5d}'.format(n), end='\\r')\n",
    "            i = self.nodes.index(kmer.prefix)\n",
    "            j = self.nodes.index(kmer.suffix)\n",
    "            self.matrix[i, j]+=1\n",
    "            n+=1\n",
    "    \n",
    "    def test_eulerian(self):\n",
    "        for i in range(len(self.nodes)):\n",
    "            if self.matrix[i, :].sum() != self.matrix[:, i].sum():\n",
    "                print(\"PROBLEM : This graph is not Eulerian.\")\n",
    "                self.eulerian = False\n",
    "                break\n",
    "        if self.eulerian != False:\n",
    "            print('SUCCESS : This graph is Eulerian !!')\n",
    "            self.eulerian = True\n",
    "        "
   ]
  },
  {
   "cell_type": "code",
   "execution_count": null,
   "metadata": {},
   "outputs": [],
   "source": [
    "# Trouve 1 cycle\n",
    "def find_eulerian_cycle():\n",
    "    # attention, ce code ne gere pas les sommets connectés avec eux-memes\n",
    "    cycle = []\n",
    "    start, s = np.array(np.where(graph.matrix))[:,1]\n",
    "    cycle.append(start)\n",
    "    graph.matrix[start, s]-=1\n",
    "    while s!= start:\n",
    "        cycle.append(s)\n",
    "        t = np.where(graph.matrix[s, :])[0][0]     # s comme sommet, t comme temporary\n",
    "        graph.matrix[s, t]-=1\n",
    "        s = t\n",
    "    return cycle"
   ]
  },
  {
   "cell_type": "code",
   "execution_count": null,
   "metadata": {},
   "outputs": [],
   "source": [
    "# Test fin\n",
    "def test_fin():\n",
    "    if graph.matrix.sum()==0: return True\n",
    "    else: return False"
   ]
  },
  {
   "cell_type": "code",
   "execution_count": null,
   "metadata": {},
   "outputs": [],
   "source": [
    "# PROGRAMME PRINCIPAL\n",
    "# Parameters\n",
    "genome_length= 10\n",
    "read_length=7\n",
    "reads_nb=6\n",
    "kmers_length=3\n",
    "\n",
    "# Genome generation\n",
    "# genome= Genome(''.join(rd.choices([\"A\", \"T\", \"G\", \"C\"], k=genome_length)), circular=True)\n",
    "genome = Genome('ATGGCGTGCA')\n",
    "\n",
    "# Reads generation\n",
    "reads = genome.sequencing(read_length=read_length, reads_nb=reads_nb)\n",
    "\n",
    "# K-mers generation\n",
    "kmers=set()\n",
    "for read in reads:\n",
    "    kmers.update(read.generate_kmers(kmers_length=kmers_length))\n",
    "\n",
    "# (K-1)-mers generation\n",
    "km1mers=set()\n",
    "for kmer in kmers:\n",
    "    km1mers.update([kmer.prefix, kmer.suffix])\n",
    "\n",
    "# Graph generation\n",
    "graph = Graph(km1mers)\n",
    "graph.fill_matrix(kmers)\n",
    "graph.test_eulerian()\n",
    "\n",
    "# Trouve tous les cycles\n",
    "cycles = []\n",
    "while test_fin() == False:\n",
    "    cycles.append(find_eulerian_cycle())\n",
    "cycles"
   ]
  },
  {
   "cell_type": "code",
   "execution_count": null,
   "metadata": {},
   "outputs": [],
   "source": [
    "# Assemble les cycles\n",
    "if len(cycles)==1:\n",
    "    seq = cycles[0]\n",
    "else:\n",
    "    cycle1 = cycles.pop(0)\n",
    "    print(cycles)\n",
    "    for s in cycle1:\n",
    "        seq.append(s)\n",
    "        for cycle in cycles:\n",
    "            if s in cycle:\n",
    "                i = cycle.index(s)\n",
    "                c = cycle[i+1:] + cycle[:i]\n",
    "                seq.append(*c)\n",
    "\n",
    "            "
   ]
  },
  {
   "cell_type": "code",
   "execution_count": null,
   "metadata": {},
   "outputs": [],
   "source": [
    "# Recréé la sequence\n",
    "genome_assembly = ''\n",
    "for s in seq:\n",
    "    genome_assembly+=graph.nodes[s][0]"
   ]
  },
  {
   "cell_type": "code",
   "execution_count": null,
   "metadata": {},
   "outputs": [],
   "source": [
    "# test genomme de départ == genome assemblé\n",
    "offset = genome_assembly.index(genome._data[:40])\n",
    "genome_assembly[offset:]+genome_assembly[:offset] == genome._data"
   ]
  },
  {
   "cell_type": "code",
   "execution_count": null,
   "metadata": {},
   "outputs": [],
   "source": []
  },
  {
   "cell_type": "code",
   "execution_count": null,
   "metadata": {},
   "outputs": [],
   "source": []
  },
  {
   "cell_type": "code",
   "execution_count": null,
   "metadata": {},
   "outputs": [],
   "source": []
  },
  {
   "cell_type": "code",
   "execution_count": null,
   "metadata": {},
   "outputs": [],
   "source": []
  },
  {
   "cell_type": "code",
   "execution_count": null,
   "metadata": {},
   "outputs": [],
   "source": []
  },
  {
   "cell_type": "code",
   "execution_count": null,
   "metadata": {},
   "outputs": [],
   "source": []
  },
  {
   "cell_type": "code",
   "execution_count": null,
   "metadata": {},
   "outputs": [],
   "source": []
  },
  {
   "cell_type": "code",
   "execution_count": null,
   "metadata": {},
   "outputs": [],
   "source": []
  },
  {
   "cell_type": "code",
   "execution_count": null,
   "metadata": {},
   "outputs": [],
   "source": []
  },
  {
   "cell_type": "code",
   "execution_count": null,
   "metadata": {},
   "outputs": [],
   "source": []
  },
  {
   "cell_type": "code",
   "execution_count": null,
   "metadata": {},
   "outputs": [],
   "source": []
  },
  {
   "cell_type": "code",
   "execution_count": null,
   "metadata": {},
   "outputs": [],
   "source": []
  },
  {
   "cell_type": "code",
   "execution_count": null,
   "metadata": {},
   "outputs": [],
   "source": []
  },
  {
   "cell_type": "code",
   "execution_count": null,
   "metadata": {},
   "outputs": [],
   "source": []
  },
  {
   "cell_type": "code",
   "execution_count": null,
   "metadata": {},
   "outputs": [],
   "source": []
  },
  {
   "cell_type": "code",
   "execution_count": null,
   "metadata": {},
   "outputs": [],
   "source": []
  },
  {
   "cell_type": "code",
   "execution_count": null,
   "metadata": {},
   "outputs": [],
   "source": []
  },
  {
   "cell_type": "code",
   "execution_count": null,
   "metadata": {},
   "outputs": [],
   "source": []
  },
  {
   "cell_type": "code",
   "execution_count": null,
   "metadata": {},
   "outputs": [],
   "source": []
  },
  {
   "cell_type": "code",
   "execution_count": null,
   "metadata": {},
   "outputs": [],
   "source": []
  },
  {
   "cell_type": "code",
   "execution_count": null,
   "metadata": {},
   "outputs": [],
   "source": []
  },
  {
   "cell_type": "code",
   "execution_count": null,
   "metadata": {},
   "outputs": [],
   "source": []
  },
  {
   "cell_type": "code",
   "execution_count": null,
   "metadata": {},
   "outputs": [],
   "source": []
  },
  {
   "cell_type": "code",
   "execution_count": null,
   "metadata": {},
   "outputs": [],
   "source": []
  },
  {
   "cell_type": "code",
   "execution_count": null,
   "metadata": {},
   "outputs": [],
   "source": []
  },
  {
   "cell_type": "code",
   "execution_count": null,
   "metadata": {},
   "outputs": [],
   "source": []
  },
  {
   "cell_type": "code",
   "execution_count": null,
   "metadata": {},
   "outputs": [],
   "source": []
  },
  {
   "cell_type": "code",
   "execution_count": null,
   "metadata": {},
   "outputs": [],
   "source": []
  },
  {
   "cell_type": "code",
   "execution_count": null,
   "metadata": {},
   "outputs": [],
   "source": []
  },
  {
   "cell_type": "code",
   "execution_count": null,
   "metadata": {},
   "outputs": [],
   "source": []
  }
 ],
 "metadata": {
  "kernelspec": {
   "display_name": "Python 3",
   "language": "python",
   "name": "python3"
  },
  "language_info": {
   "codemirror_mode": {
    "name": "ipython",
    "version": 3
   },
   "file_extension": ".py",
   "mimetype": "text/x-python",
   "name": "python",
   "nbconvert_exporter": "python",
   "pygments_lexer": "ipython3",
   "version": "3.6.4"
  }
 },
 "nbformat": 4,
 "nbformat_minor": 2
}
